{
 "cells": [
  {
   "cell_type": "code",
   "execution_count": null,
   "metadata": {},
   "outputs": [],
   "source": [
    "import pandas as pd\n",
    "import yaml\n",
    "\n",
    "with open(\"config.yaml\", 'r') as file:\n",
    "    config = yaml.safe_load(file)\n",
    "\n",
    "circulating_supply_df = pd.read_csv(config['pr_calculation']['data']['circulating_supply_file'], parse_dates=['Date'])\n",
    "votable_supply_df = pd.read_csv(config['pr_calculation']['data']['votable_supply_file'], parse_dates=['Date'])\n",
    "\n",
    "merged_df = pd.merge(circulating_supply_df, votable_supply_df, on=\"Date\", how=\"inner\")\n",
    "\n",
    "merged_df[config['pr_calculation']['calculation']['pr_column']] = merged_df[config['pr_calculation']['calculation']['votable_supply_column']] / merged_df[config['pr_calculation']['calculation']['circulating_supply_column']]\n",
    "\n",
    "result_df = merged_df[[\"Date\", config['pr_calculation']['calculation']['pr_column']]]\n",
    "output_file = config['pr_calculation']['data']['output_file']\n",
    "result_df.to_csv(output_file, index=False)\n",
    "\n",
    "print(f\"Processed data saved to {output_file}\")"
   ]
  }
 ],
 "metadata": {
  "kernelspec": {
   "display_name": "Python 3",
   "language": "python",
   "name": "python3"
  },
  "language_info": {
   "codemirror_mode": {
    "name": "ipython",
    "version": 3
   },
   "file_extension": ".py",
   "mimetype": "text/x-python",
   "name": "python",
   "nbconvert_exporter": "python",
   "pygments_lexer": "ipython3",
   "version": "3.10.11"
  }
 },
 "nbformat": 4,
 "nbformat_minor": 2
}
