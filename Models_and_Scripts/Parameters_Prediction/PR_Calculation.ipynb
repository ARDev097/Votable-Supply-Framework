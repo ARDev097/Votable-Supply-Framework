{
 "cells": [
  {
   "cell_type": "code",
   "execution_count": null,
   "metadata": {},
   "outputs": [],
   "source": [
    "import pandas as pd\n",
    "\n",
    "# Load the raw data\n",
    "input_file = \"../../Dataset/Historical_Data/Participation_Ratio/PR_Raw_Data.csv\"\n",
    "output_file = \"../../Dataset/Prediction_Data/PR_Future_Data.csv\"\n",
    "\n",
    "df = pd.read_csv(input_file)\n",
    "\n",
    "# Calculate PR as Votable Supply / Circulating Supply\n",
    "df[\"PR\"] = df[\"Votable Supply\"] / df[\"Circulating Supply\"]\n",
    "\n",
    "# Select required columns and save to new CSV\n",
    "result_df = df[[\"Date\", \"PR\"]]\n",
    "result_df.to_csv(output_file, index=False)\n",
    "\n",
    "print(f\"Processed data saved to {output_file}\")"
   ]
  }
 ],
 "metadata": {
  "language_info": {
   "name": "python"
  }
 },
 "nbformat": 4,
 "nbformat_minor": 2
}
