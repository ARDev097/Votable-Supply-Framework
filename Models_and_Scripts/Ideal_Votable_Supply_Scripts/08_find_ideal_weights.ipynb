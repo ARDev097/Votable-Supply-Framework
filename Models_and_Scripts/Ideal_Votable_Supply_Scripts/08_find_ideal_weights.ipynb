{
 "cells": [
  {
   "cell_type": "code",
   "execution_count": null,
   "metadata": {},
   "outputs": [],
   "source": [
    "import pandas as pd\n",
    "import glob\n",
    "import yaml\n",
    "import os"
   ]
  },
  {
   "cell_type": "code",
   "execution_count": null,
   "metadata": {},
   "outputs": [],
   "source": [
    "# Load settings from config.yaml\n",
    "with open(\"config.yaml\", 'r') as file:\n",
    "    config = yaml.safe_load(file)"
   ]
  },
  {
   "cell_type": "code",
   "execution_count": null,
   "metadata": {},
   "outputs": [],
   "source": [
    "monotonicity_score_weight = config['ideal_weights']['parameters']['monotonicity_score_weight']\n",
    "std_deviation_weight = config['ideal_weights']['parameters']['std_deviation_weight']\n",
    "avg_proportional_increase_weight = config['ideal_weights']['parameters']['avg_proportional_increase_weight']"
   ]
  },
  {
   "cell_type": "code",
   "execution_count": null,
   "metadata": {},
   "outputs": [],
   "source": [
    "# Load the ideal votable supply data\n",
    "def load_ideal_data(file_paths):\n",
    "    ideal_dfs = []\n",
    "    for file_path in file_paths:\n",
    "        ideal_df = pd.read_csv(file_path)\n",
    "        ideal_df['Date'] = pd.to_datetime(ideal_df['Date'], errors='coerce')\n",
    "        ideal_df = ideal_df.dropna(subset=['Date'])\n",
    "        ideal_dfs.append(ideal_df)\n",
    "    return ideal_dfs\n",
    "\n",
    "# Calculate performance metrics\n",
    "def calculate_metrics(ideal_dfs):\n",
    "    results = []\n",
    "    for data in ideal_dfs:\n",
    "        if 'weights' not in data.columns:\n",
    "            raise KeyError(\"Weights column is missing from the data.\")\n",
    "\n",
    "        # Calculate the proportional increase\n",
    "        data['Pincrease'] = data['IVS'] / data['Votable Supply']\n",
    "\n",
    "        # Calculate the monotonicity score, average proportional increase, and standard deviation\n",
    "        monotonicity_score = (data['Pincrease'].diff().fillna(0) >= 0).mean()\n",
    "        avg_proportional_increase = data['Pincrease'].mean()\n",
    "        std_deviation = data['Pincrease'].std()\n",
    "\n",
    "        # Calculate the total score\n",
    "        total_score = (\n",
    "            monotonicity_score * monotonicity_score_weight\n",
    "            - std_deviation * std_deviation_weight\n",
    "            + avg_proportional_increase * avg_proportional_increase_weight\n",
    "        )\n",
    "\n",
    "        # Append the results\n",
    "        results.append({\n",
    "            'Weights': data['weights'].iloc[0], \n",
    "            'Monotonicity Score': monotonicity_score,\n",
    "            'Average Proportional Increase': avg_proportional_increase,\n",
    "            'Standard Deviation': std_deviation,\n",
    "            'Total Score': total_score\n",
    "        })\n",
    "\n",
    "    return pd.DataFrame(results)\n",
    "\n",
    "# Main process\n",
    "def main():\n",
    "    weight_combination_folder = config['generate_weight_combinations']['data']['all_weight_combinations_folder_path']\n",
    "    weight_combination_files = glob.glob(os.path.join(weight_combination_folder, \"*.csv\"))\n",
    "\n",
    "    # Step 1: Load data\n",
    "    ideal_dfs = load_ideal_data(weight_combination_files)\n",
    "\n",
    "    # Step 2: Calculate metrics\n",
    "    metrics_df = calculate_metrics(ideal_dfs)\n",
    "\n",
    "    # Step 3: Rank weight combinations\n",
    "    metrics_df = metrics_df.sort_values(by='Total Score', ascending=False)\n",
    "\n",
    "    # Step 4: Output results\n",
    "    ideal_weights_data_path = config['ideal_weights']['data']['ideal_weights_data_path']\n",
    "    metrics_df.to_csv(ideal_weights_data_path, index=False)\n",
    "    print(\"Data saved successfully\")\n",
    "\n",
    "    # Print the ideal weights\n",
    "    best_weights = metrics_df.iloc[0]\n",
    "    print(\"\\nIdeal Weights:\")\n",
    "    print(f\"Weights: {best_weights['Weights']}\")\n",
    "    print(f\"Monotonicity Score: {best_weights['Monotonicity Score']:.2f}\")\n",
    "    print(f\"Average Proportional Increase: {best_weights['Average Proportional Increase']:.2f}\")\n",
    "    print(f\"Standard Deviation: {best_weights['Standard Deviation']:.2f}\")\n",
    "    print(f\"Total Score: {best_weights['Total Score']:.2f}\")\n",
    "\n",
    "if __name__ == \"__main__\":\n",
    "    main()\n"
   ]
  }
 ],
 "metadata": {
  "kernelspec": {
   "display_name": "votable_supply",
   "language": "python",
   "name": "python3"
  },
  "language_info": {
   "codemirror_mode": {
    "name": "ipython",
    "version": 3
   },
   "file_extension": ".py",
   "mimetype": "text/x-python",
   "name": "python",
   "nbconvert_exporter": "python",
   "pygments_lexer": "ipython3",
   "version": "3.12.3"
  }
 },
 "nbformat": 4,
 "nbformat_minor": 2
}
