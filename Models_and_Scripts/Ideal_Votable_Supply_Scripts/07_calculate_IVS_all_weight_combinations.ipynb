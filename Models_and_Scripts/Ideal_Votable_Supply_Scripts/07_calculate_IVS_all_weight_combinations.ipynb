{
 "cells": [
  {
   "cell_type": "code",
   "execution_count": null,
   "metadata": {},
   "outputs": [],
   "source": [
    "import os\n",
    "import yaml\n",
    "import pandas as pd\n",
    "import numpy as np"
   ]
  },
  {
   "cell_type": "code",
   "execution_count": null,
   "metadata": {},
   "outputs": [],
   "source": [
    "# Load settings from config.yaml\n",
    "with open(\"config.yaml\", 'r') as file:\n",
    "    config = yaml.safe_load(file)"
   ]
  },
  {
   "cell_type": "code",
   "execution_count": null,
   "metadata": {},
   "outputs": [],
   "source": [
    "# Define the path to the folder containing the CSV files\n",
    "folder_path = config['generate_weight_combinations']['data']['all_weight_combinations_folder_path']\n",
    "\n",
    "# Get a list of all CSV files in the folder\n",
    "csv_files = [f for f in os.listdir(folder_path) if f.endswith('.csv')]\n",
    "\n",
    "# Loop through each CSV file and apply the transformation\n",
    "for file in csv_files:\n",
    "    # Construct the full file path\n",
    "    file_path = os.path.join(folder_path, file)\n",
    "    \n",
    "    # Load the data\n",
    "    data = pd.read_csv(file_path)\n",
    "    \n",
    "    # Calculate the 'IVS' column\n",
    "    beta = config['calculate_IVS']['parametres']['beta']\n",
    "    alpha = config['calculate_IVS']['parametres']['alpha']\n",
    "\n",
    "    F_min = data['F'].min()\n",
    "    F_max = data['F'].max()\n",
    "\n",
    "    data['IVS'] = round(data['Votable Supply'] * (beta + (np.exp(alpha * ((data['F'] - F_min) / (F_max - F_min))) - 1)), 2)\n",
    "\n",
    "    # Save the updated dataframe to a new CSV file\n",
    "    updated_file_path = os.path.join(folder_path, file)\n",
    "    data.to_csv(updated_file_path, index=False)\n",
    "\n",
    "    print(f\"Updated file saved: {updated_file_path}\")\n"
   ]
  }
 ],
 "metadata": {
  "kernelspec": {
   "display_name": "votable_supply",
   "language": "python",
   "name": "python3"
  },
  "language_info": {
   "codemirror_mode": {
    "name": "ipython",
    "version": 3
   },
   "file_extension": ".py",
   "mimetype": "text/x-python",
   "name": "python",
   "nbconvert_exporter": "python",
   "pygments_lexer": "ipython3",
   "version": "3.12.3"
  }
 },
 "nbformat": 4,
 "nbformat_minor": 2
}
