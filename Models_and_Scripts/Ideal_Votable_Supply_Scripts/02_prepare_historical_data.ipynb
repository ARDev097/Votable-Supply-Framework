{
 "cells": [
  {
   "cell_type": "code",
   "execution_count": null,
   "metadata": {},
   "outputs": [],
   "source": [
    "import pandas as pd\n",
    "import matplotlib.pyplot as plt\n",
    "import yaml"
   ]
  },
  {
   "cell_type": "code",
   "execution_count": null,
   "metadata": {},
   "outputs": [],
   "source": [
    "# Load settings from config.yaml\n",
    "with open(\"config.yaml\", 'r') as file:\n",
    "    config = yaml.safe_load(file)"
   ]
  },
  {
   "cell_type": "code",
   "execution_count": null,
   "metadata": {},
   "outputs": [],
   "source": [
    "op_price_data_path = config['general']['data']['op_price_historical_data_path']\n",
    "avpi_data_path = config['general']['data']['avpi_historical_data_path']\n",
    "pr_data_path = config['general']['data']['pr_historical_data_path']\n",
    "lar_data_path = config['general']['data']['lar_historical_data_path']"
   ]
  },
  {
   "cell_type": "code",
   "execution_count": null,
   "metadata": {},
   "outputs": [],
   "source": [
    "op_price_data = pd.read_csv(op_price_data_path, parse_dates=['Date'])\n",
    "avpi_data = pd.read_csv(avpi_data_path, parse_dates=['Date'])\n",
    "pr_data = pd.read_csv(pr_data_path, parse_dates=['Date'])\n",
    "lar_data = pd.read_csv(lar_data_path, parse_dates=['Date'])"
   ]
  },
  {
   "cell_type": "code",
   "execution_count": null,
   "metadata": {},
   "outputs": [],
   "source": [
    "print(\"OP Price Data Columns:\")\n",
    "print(op_price_data.columns)\n",
    "\n",
    "print(f\"\\nAVPI Data Columns:\")\n",
    "print(avpi_data.columns)\n",
    "\n",
    "print(f\"\\nPR Data Columns:\")\n",
    "print(pr_data.columns)\n",
    "\n",
    "print(f\"\\nLAR Data Columns:\")\n",
    "print(lar_data.columns)"
   ]
  },
  {
   "cell_type": "markdown",
   "metadata": {},
   "source": [
    "### Drop the Columns That Are Not Required"
   ]
  },
  {
   "cell_type": "code",
   "execution_count": null,
   "metadata": {},
   "outputs": [],
   "source": [
    "avpi_data = avpi_data.drop(['Volume Traded (30 days)', 'Actual Votable Supply'], axis=1)\n",
    "pr_data = pr_data.drop(['Votable Supply', 'Circulating Supply'], axis=1)\n",
    "lar_data = lar_data.drop(['Volume Traded (24h)', 'Circulating Supply'], axis=1)"
   ]
  },
  {
   "cell_type": "code",
   "execution_count": null,
   "metadata": {},
   "outputs": [],
   "source": [
    "print(op_price_data.columns)\n",
    "print(avpi_data.columns)\n",
    "print(pr_data.columns)\n",
    "print(lar_data.columns)"
   ]
  },
  {
   "cell_type": "code",
   "execution_count": null,
   "metadata": {},
   "outputs": [],
   "source": [
    "op_price_data.head()"
   ]
  },
  {
   "cell_type": "code",
   "execution_count": null,
   "metadata": {},
   "outputs": [],
   "source": [
    "avpi_data.head()"
   ]
  },
  {
   "cell_type": "code",
   "execution_count": null,
   "metadata": {},
   "outputs": [],
   "source": [
    "pr_data.head()"
   ]
  },
  {
   "cell_type": "code",
   "execution_count": null,
   "metadata": {},
   "outputs": [],
   "source": [
    "lar_data.head()"
   ]
  },
  {
   "cell_type": "code",
   "execution_count": null,
   "metadata": {},
   "outputs": [],
   "source": [
    "print(\"OP_Price :\")\n",
    "print(\"Min -\",round(op_price_data['OP_Price'].min(), 2),\", Max -\",round(op_price_data['OP_Price'].max(), 2))\n",
    "\n",
    "print(\"\\nAVPI :\")\n",
    "print(\"Min -\",round(avpi_data['AVPI'].min(), 2),\", Max -\",round(avpi_data['AVPI'].max(), 2))\n",
    "\n",
    "print(\"\\nPR :\")\n",
    "print(\"Min -\",round(pr_data['PR'].min(), 2),\", Max -\",round(pr_data['PR'].max(), 2))\n",
    "\n",
    "print(\"\\nLAR :\")\n",
    "print(\"Min -\",round(lar_data['LAR'].min(), 2),\", Max -\",round(lar_data['LAR'].max(), 2))"
   ]
  },
  {
   "cell_type": "markdown",
   "metadata": {},
   "source": [
    "### Merge all Dataframes"
   ]
  },
  {
   "cell_type": "code",
   "execution_count": null,
   "metadata": {},
   "outputs": [],
   "source": [
    "merged_data = pd.merge(op_price_data, avpi_data, on='Date', how='inner')\n",
    "merged_data = pd.merge(merged_data, pr_data, on='Date', how='inner')\n",
    "merged_data = pd.merge(merged_data, lar_data, on='Date', how='inner')"
   ]
  },
  {
   "cell_type": "code",
   "execution_count": null,
   "metadata": {},
   "outputs": [],
   "source": [
    "merged_data.info()"
   ]
  },
  {
   "cell_type": "code",
   "execution_count": null,
   "metadata": {},
   "outputs": [],
   "source": [
    "# Create the figure and axis\n",
    "fig, ax = plt.subplots(figsize=(10, 5))\n",
    "\n",
    "# Plot the data\n",
    "ax.plot(merged_data['Date'], merged_data[\"OP_Price\"], color='blue', label=\"OP_Price\")\n",
    "ax.plot()\n",
    "\n",
    "# Labels and title\n",
    "ax.set_xlabel(\"Date\")\n",
    "ax.set_ylabel(\"OP_Price\")\n",
    "ax.set_title(\"OP_Price Over Time (Daily Data)\")\n",
    "ax.legend()\n",
    "\n",
    "# Rotate x-axis labels for better readability\n",
    "plt.xticks(rotation=45)\n",
    "\n",
    "# Show the plot\n",
    "plt.show()\n"
   ]
  },
  {
   "cell_type": "code",
   "execution_count": null,
   "metadata": {},
   "outputs": [],
   "source": [
    "# Create the figure and axis\n",
    "fig, ax = plt.subplots(figsize=(10, 5))\n",
    "\n",
    "# Plot the data\n",
    "ax.plot(merged_data['Date'], merged_data[\"AVPI\"], color='green', label=\"AVPI\")\n",
    "ax.plot()\n",
    "\n",
    "# Labels and title\n",
    "ax.set_xlabel(\"Date\")\n",
    "ax.set_ylabel(\"AVPI\")\n",
    "ax.set_title(\"AVPI Over Time (Daily Data)\")\n",
    "ax.legend()\n",
    "\n",
    "# Rotate x-axis labels for better readability\n",
    "plt.xticks(rotation=45)\n",
    "\n",
    "# Show the plot\n",
    "plt.show()\n"
   ]
  },
  {
   "cell_type": "code",
   "execution_count": null,
   "metadata": {},
   "outputs": [],
   "source": [
    "# Create the figure and axis\n",
    "fig, ax = plt.subplots(figsize=(10, 5))\n",
    "\n",
    "# Plot the data\n",
    "ax.plot(merged_data['Date'], merged_data[\"PR\"], color='red', label=\"PR\")\n",
    "ax.plot()\n",
    "\n",
    "# Labels and title\n",
    "ax.set_xlabel(\"Date\")\n",
    "ax.set_ylabel(\"PR\")\n",
    "ax.set_title(\"PR Over Time (Daily Data)\")\n",
    "ax.legend()\n",
    "\n",
    "# Rotate x-axis labels for better readability\n",
    "plt.xticks(rotation=45)\n",
    "\n",
    "# Show the plot\n",
    "plt.show()\n"
   ]
  },
  {
   "cell_type": "code",
   "execution_count": null,
   "metadata": {},
   "outputs": [],
   "source": [
    "# Create the figure and axis\n",
    "fig, ax = plt.subplots(figsize=(10, 5))\n",
    "\n",
    "# Plot the data\n",
    "ax.plot(merged_data['Date'], merged_data[\"LAR\"], color='purple', label=\"LAR\")\n",
    "ax.plot()\n",
    "\n",
    "# Labels and title\n",
    "ax.set_xlabel(\"Date\")\n",
    "ax.set_ylabel(\"LAR\")\n",
    "ax.set_title(\"LAR Over Time (Daily Data)\")\n",
    "ax.legend()\n",
    "\n",
    "# Rotate x-axis labels for better readability\n",
    "plt.xticks(rotation=45)\n",
    "\n",
    "# Show the plot\n",
    "plt.show()\n"
   ]
  },
  {
   "cell_type": "markdown",
   "metadata": {},
   "source": [
    "### Merge the Votable Supply and Circulating Supply"
   ]
  },
  {
   "cell_type": "code",
   "execution_count": null,
   "metadata": {},
   "outputs": [],
   "source": [
    "vs_historical_data_path = config['general']['data']['vs_historical_data_path']\n",
    "cs_historical_data_path = config['general']['data']['cs_historical_data_path']"
   ]
  },
  {
   "cell_type": "code",
   "execution_count": null,
   "metadata": {},
   "outputs": [],
   "source": [
    "vs_data = pd.read_csv(vs_historical_data_path, parse_dates=['Date'])\n",
    "cs_data = pd.read_csv(cs_historical_data_path, parse_dates=['Date'])"
   ]
  },
  {
   "cell_type": "code",
   "execution_count": null,
   "metadata": {},
   "outputs": [],
   "source": [
    "vs_data.info()"
   ]
  },
  {
   "cell_type": "code",
   "execution_count": null,
   "metadata": {},
   "outputs": [],
   "source": [
    "cs_data.info()"
   ]
  },
  {
   "cell_type": "code",
   "execution_count": null,
   "metadata": {},
   "outputs": [],
   "source": [
    "vs_data.head()"
   ]
  },
  {
   "cell_type": "code",
   "execution_count": null,
   "metadata": {},
   "outputs": [],
   "source": [
    "cs_data.head()"
   ]
  },
  {
   "cell_type": "code",
   "execution_count": null,
   "metadata": {},
   "outputs": [],
   "source": [
    "merged_data = pd.merge(merged_data, vs_data, on='Date', how='left')\n",
    "merged_data = pd.merge(merged_data, cs_data, on='Date', how='left')"
   ]
  },
  {
   "cell_type": "code",
   "execution_count": null,
   "metadata": {},
   "outputs": [],
   "source": [
    "merged_data.info()"
   ]
  },
  {
   "cell_type": "markdown",
   "metadata": {},
   "source": [
    "### Round the decimals"
   ]
  },
  {
   "cell_type": "code",
   "execution_count": null,
   "metadata": {},
   "outputs": [],
   "source": [
    "merged_data['Votable Supply'] = round(merged_data['Votable Supply'], 2)\n",
    "merged_data['Circulating Supply'] = round(merged_data['Circulating Supply'], 2)"
   ]
  },
  {
   "cell_type": "markdown",
   "metadata": {},
   "source": [
    "### Save the Data to CSV"
   ]
  },
  {
   "cell_type": "code",
   "execution_count": null,
   "metadata": {},
   "outputs": [],
   "source": [
    "merged_historical_data_path = config['prepare_historical_data']['data']['merged_historical_data_path']"
   ]
  },
  {
   "cell_type": "code",
   "execution_count": null,
   "metadata": {},
   "outputs": [],
   "source": [
    "merged_data.to_csv(merged_historical_data_path, index=False)"
   ]
  }
 ],
 "metadata": {
  "kernelspec": {
   "display_name": "votable_supply",
   "language": "python",
   "name": "python3"
  },
  "language_info": {
   "codemirror_mode": {
    "name": "ipython",
    "version": 3
   },
   "file_extension": ".py",
   "mimetype": "text/x-python",
   "name": "python",
   "nbconvert_exporter": "python",
   "pygments_lexer": "ipython3",
   "version": "3.12.3"
  }
 },
 "nbformat": 4,
 "nbformat_minor": 2
}
