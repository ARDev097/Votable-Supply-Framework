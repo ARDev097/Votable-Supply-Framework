{
 "cells": [
  {
   "cell_type": "markdown",
   "metadata": {},
   "source": [
    "w1 - PR\n",
    "\n",
    "w2 - LAR \n",
    "\n",
    "w3 - OP_Price \n",
    "\n",
    "w4 - AVPI "
   ]
  },
  {
   "cell_type": "code",
   "execution_count": null,
   "metadata": {},
   "outputs": [],
   "source": [
    "import os\n",
    "import pandas as pd\n",
    "import numpy as np\n",
    "from itertools import product"
   ]
  },
  {
   "cell_type": "code",
   "execution_count": null,
   "metadata": {},
   "outputs": [],
   "source": [
    "# Function to generate all valid weight combinations within specified ranges\n",
    "def generate_weight_combinations():\n",
    "    \"\"\"\n",
    "    Generate all valid weight combinations with specific constraints:\n",
    "    - Weights are within the specified ranges for each parameter.\n",
    "    - Weights are ordered: w1 > w2 > w3 > w4.\n",
    "    - Sum of weights is 1.\n",
    "    \"\"\"\n",
    "    step = 0.01  \n",
    "    valid_combinations = []\n",
    "\n",
    "    w1_range = np.linspace(0.23, 0.51, int((0.51 - 0.23) / step) + 1)\n",
    "    w2_range = np.linspace(0.19, 0.47, int((0.47 - 0.19) / step) + 1)\n",
    "    w3_range = np.linspace(0.15, 0.43, int((0.43 - 0.15) / step) + 1)\n",
    "    w4_range = np.linspace(0.00, 0.15, int((0.15 - 0.00) / step) + 1)\n",
    "\n",
    "    for w1, w2, w3, w4 in product(w1_range, w2_range, w3_range, w4_range):\n",
    "        if (w1 > w2 > w3 > w4 and \n",
    "            abs(w1 + w2 + w3 + w4 - 1) < step   # Ensure sum is approximately 1\n",
    "        ):  \n",
    "            valid_combinations.append((round(w1, 2), round(w2, 2), round(w3, 2), round(w4, 2)))\n",
    "\n",
    "    return valid_combinations\n"
   ]
  },
  {
   "cell_type": "code",
   "execution_count": null,
   "metadata": {},
   "outputs": [],
   "source": [
    "# Function to calculate Adjstment Factor (F)\n",
    "def calculate_videal(df, weights):\n",
    "    \"\"\"\n",
    "    Calculate Adjstment Factor (F) based on the given weights.\n",
    "    \n",
    "    Parameters:\n",
    "    - df: Input DataFrame containing relevant columns.\n",
    "    - weights: Tuple of weights (w1, w2, w3, w4).\n",
    "    \n",
    "    Returns:\n",
    "    - DataFrame with updated 'F' column.\n",
    "    \"\"\"\n",
    "    w1, w2, w3, w4 = weights\n",
    "\n",
    "    df['F'] = round(\n",
    "        (1 / (1 + (w1 * df['PR_Scaled']))) *\n",
    "        (1 + (w2 * df['LAR_Scaled'])) * \n",
    "        (1 / (1 + (w4 * df['OP_Price_Scaled']))) *\n",
    "        (1 + (w3 * df['AVPI_Scaled'])), 6)\n",
    "\n",
    "    return df\n"
   ]
  },
  {
   "cell_type": "code",
   "execution_count": null,
   "metadata": {},
   "outputs": [],
   "source": [
    "# Main function to generate weight combinations and save results\n",
    "def main(input_file_path, output_folder):\n",
    "    \"\"\"\n",
    "    Main function to process the input file, generate weight combinations, and save results.\n",
    "    \n",
    "    Parameters:\n",
    "    - input_file_path: Path to the input CSV file.\n",
    "    - output_folder: Folder to save the results for each weight combination.\n",
    "    \"\"\"\n",
    "    os.makedirs(output_folder, exist_ok=True)\n",
    "\n",
    "    df = pd.read_csv(input_file_path)\n",
    "\n",
    "    weight_combinations = generate_weight_combinations()\n",
    "    print(f\"Generated {len(weight_combinations)} valid weight combinations.\")\n",
    "\n",
    "    for weights in weight_combinations:\n",
    "\n",
    "        temp_df = calculate_videal(df.copy(), weights)\n",
    "\n",
    "        temp_df['weights'] = f\"w1={weights[0]}, w2={weights[1]}, w3={weights[2]}, w4={weights[3]}\"\n",
    "\n",
    "        output_filename = f\"results_w1_{weights[0]}_w2_{weights[1]}_w3_{weights[2]}_w4_{weights[3]}.csv\"\n",
    "        output_path = os.path.join(output_folder, output_filename)\n",
    "\n",
    "        temp_df[['Date', 'F', 'weights', 'Votable Supply']].to_csv(output_path, index=False)\n",
    "        print(f\"Saved: {output_path}\")\n"
   ]
  },
  {
   "cell_type": "code",
   "execution_count": null,
   "metadata": {},
   "outputs": [],
   "source": [
    "# Input and output paths\n",
    "input_file_path = \"../../Dataset/Ideal_Votable_Supply_Data/All_Parameters_Data.csv\" \n",
    "output_folder = \"../../Dataset/Ideal_Votable_Supply_Data/All_Weight_Combinations\"  \n",
    "\n",
    "# Main function\n",
    "if __name__ == \"__main__\":\n",
    "    main(input_file_path, output_folder)"
   ]
  }
 ],
 "metadata": {
  "kernelspec": {
   "display_name": "votable_supply",
   "language": "python",
   "name": "python3"
  },
  "language_info": {
   "codemirror_mode": {
    "name": "ipython",
    "version": 3
   },
   "file_extension": ".py",
   "mimetype": "text/x-python",
   "name": "python",
   "nbconvert_exporter": "python",
   "pygments_lexer": "ipython3",
   "version": "3.12.3"
  }
 },
 "nbformat": 4,
 "nbformat_minor": 2
}
