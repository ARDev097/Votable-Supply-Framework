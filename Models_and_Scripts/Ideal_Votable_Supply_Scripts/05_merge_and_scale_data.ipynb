{
 "cells": [
  {
   "cell_type": "code",
   "execution_count": 39,
   "metadata": {},
   "outputs": [],
   "source": [
    "import pandas as pd\n",
    "import numpy as np\n",
    "import matplotlib.pyplot as plt\n",
    "import seaborn as sns\n",
    "import yaml\n",
    "from sklearn.preprocessing import MinMaxScaler"
   ]
  },
  {
   "cell_type": "code",
   "execution_count": 40,
   "metadata": {},
   "outputs": [],
   "source": [
    "# Load settings from config.yaml\n",
    "with open(\"config.yaml\", 'r') as file:\n",
    "    config = yaml.safe_load(file)"
   ]
  },
  {
   "cell_type": "code",
   "execution_count": 41,
   "metadata": {},
   "outputs": [],
   "source": [
    "merged_historical_data_path = config['prepare_historical_data']['data']['merged_historical_data_path']\n",
    "merged_future_data_path = config['prepare_future_data']['data']['merged_future_data_path']"
   ]
  },
  {
   "cell_type": "code",
   "execution_count": 42,
   "metadata": {},
   "outputs": [],
   "source": [
    "hist_data = pd.read_csv(merged_historical_data_path, parse_dates=['Date'])\n",
    "future_data = pd.read_csv(merged_future_data_path, parse_dates=['Date'])"
   ]
  },
  {
   "cell_type": "code",
   "execution_count": 43,
   "metadata": {},
   "outputs": [
    {
     "name": "stdout",
     "output_type": "stream",
     "text": [
      "<class 'pandas.core.frame.DataFrame'>\n",
      "RangeIndex: 363 entries, 0 to 362\n",
      "Data columns (total 7 columns):\n",
      " #   Column              Non-Null Count  Dtype         \n",
      "---  ------              --------------  -----         \n",
      " 0   Date                363 non-null    datetime64[ns]\n",
      " 1   OP_Price            363 non-null    float64       \n",
      " 2   AVPI                363 non-null    float64       \n",
      " 3   PR                  363 non-null    float64       \n",
      " 4   LAR                 363 non-null    float64       \n",
      " 5   Votable Supply      363 non-null    float64       \n",
      " 6   Circulating Supply  363 non-null    float64       \n",
      "dtypes: datetime64[ns](1), float64(6)\n",
      "memory usage: 20.0 KB\n"
     ]
    }
   ],
   "source": [
    "hist_data.info()"
   ]
  },
  {
   "cell_type": "code",
   "execution_count": 44,
   "metadata": {},
   "outputs": [
    {
     "name": "stdout",
     "output_type": "stream",
     "text": [
      "<class 'pandas.core.frame.DataFrame'>\n",
      "RangeIndex: 761 entries, 0 to 760\n",
      "Data columns (total 7 columns):\n",
      " #   Column              Non-Null Count  Dtype         \n",
      "---  ------              --------------  -----         \n",
      " 0   Date                761 non-null    datetime64[ns]\n",
      " 1   OP_Price            761 non-null    float64       \n",
      " 2   AVPI                761 non-null    float64       \n",
      " 3   PR                  761 non-null    float64       \n",
      " 4   LAR                 761 non-null    float64       \n",
      " 5   Votable Supply      761 non-null    float64       \n",
      " 6   Circulating Supply  761 non-null    float64       \n",
      "dtypes: datetime64[ns](1), float64(6)\n",
      "memory usage: 41.7 KB\n"
     ]
    }
   ],
   "source": [
    "future_data.info()"
   ]
  },
  {
   "cell_type": "code",
   "execution_count": 45,
   "metadata": {},
   "outputs": [],
   "source": [
    "data = pd.concat([hist_data, future_data])"
   ]
  },
  {
   "cell_type": "code",
   "execution_count": 46,
   "metadata": {},
   "outputs": [
    {
     "data": {
      "text/html": [
       "<div>\n",
       "<style scoped>\n",
       "    .dataframe tbody tr th:only-of-type {\n",
       "        vertical-align: middle;\n",
       "    }\n",
       "\n",
       "    .dataframe tbody tr th {\n",
       "        vertical-align: top;\n",
       "    }\n",
       "\n",
       "    .dataframe thead th {\n",
       "        text-align: right;\n",
       "    }\n",
       "</style>\n",
       "<table border=\"1\" class=\"dataframe\">\n",
       "  <thead>\n",
       "    <tr style=\"text-align: right;\">\n",
       "      <th></th>\n",
       "      <th>Date</th>\n",
       "      <th>OP_Price</th>\n",
       "      <th>AVPI</th>\n",
       "      <th>PR</th>\n",
       "      <th>LAR</th>\n",
       "      <th>Votable Supply</th>\n",
       "      <th>Circulating Supply</th>\n",
       "    </tr>\n",
       "  </thead>\n",
       "  <tbody>\n",
       "    <tr>\n",
       "      <th>0</th>\n",
       "      <td>2023-12-04</td>\n",
       "      <td>1.719741</td>\n",
       "      <td>0.976378</td>\n",
       "      <td>0.090822</td>\n",
       "      <td>0.054445</td>\n",
       "      <td>82765569.72</td>\n",
       "      <td>911294948.0</td>\n",
       "    </tr>\n",
       "    <tr>\n",
       "      <th>1</th>\n",
       "      <td>2023-12-05</td>\n",
       "      <td>1.790326</td>\n",
       "      <td>0.445840</td>\n",
       "      <td>0.090529</td>\n",
       "      <td>0.184733</td>\n",
       "      <td>82498452.48</td>\n",
       "      <td>911294948.0</td>\n",
       "    </tr>\n",
       "    <tr>\n",
       "      <th>2</th>\n",
       "      <td>2023-12-06</td>\n",
       "      <td>1.800778</td>\n",
       "      <td>0.466266</td>\n",
       "      <td>0.091018</td>\n",
       "      <td>0.112463</td>\n",
       "      <td>82944352.75</td>\n",
       "      <td>911294948.0</td>\n",
       "    </tr>\n",
       "    <tr>\n",
       "      <th>3</th>\n",
       "      <td>2023-12-07</td>\n",
       "      <td>1.712827</td>\n",
       "      <td>0.468346</td>\n",
       "      <td>0.090122</td>\n",
       "      <td>0.114737</td>\n",
       "      <td>82127363.78</td>\n",
       "      <td>911294948.0</td>\n",
       "    </tr>\n",
       "    <tr>\n",
       "      <th>4</th>\n",
       "      <td>2023-12-08</td>\n",
       "      <td>2.178050</td>\n",
       "      <td>0.381139</td>\n",
       "      <td>0.090156</td>\n",
       "      <td>0.249292</td>\n",
       "      <td>82158482.04</td>\n",
       "      <td>911294948.0</td>\n",
       "    </tr>\n",
       "  </tbody>\n",
       "</table>\n",
       "</div>"
      ],
      "text/plain": [
       "        Date  OP_Price      AVPI        PR       LAR  Votable Supply  \\\n",
       "0 2023-12-04  1.719741  0.976378  0.090822  0.054445     82765569.72   \n",
       "1 2023-12-05  1.790326  0.445840  0.090529  0.184733     82498452.48   \n",
       "2 2023-12-06  1.800778  0.466266  0.091018  0.112463     82944352.75   \n",
       "3 2023-12-07  1.712827  0.468346  0.090122  0.114737     82127363.78   \n",
       "4 2023-12-08  2.178050  0.381139  0.090156  0.249292     82158482.04   \n",
       "\n",
       "   Circulating Supply  \n",
       "0         911294948.0  \n",
       "1         911294948.0  \n",
       "2         911294948.0  \n",
       "3         911294948.0  \n",
       "4         911294948.0  "
      ]
     },
     "execution_count": 46,
     "metadata": {},
     "output_type": "execute_result"
    }
   ],
   "source": [
    "data.head()"
   ]
  },
  {
   "cell_type": "code",
   "execution_count": 47,
   "metadata": {},
   "outputs": [
    {
     "data": {
      "text/html": [
       "<div>\n",
       "<style scoped>\n",
       "    .dataframe tbody tr th:only-of-type {\n",
       "        vertical-align: middle;\n",
       "    }\n",
       "\n",
       "    .dataframe tbody tr th {\n",
       "        vertical-align: top;\n",
       "    }\n",
       "\n",
       "    .dataframe thead th {\n",
       "        text-align: right;\n",
       "    }\n",
       "</style>\n",
       "<table border=\"1\" class=\"dataframe\">\n",
       "  <thead>\n",
       "    <tr style=\"text-align: right;\">\n",
       "      <th></th>\n",
       "      <th>Date</th>\n",
       "      <th>OP_Price</th>\n",
       "      <th>AVPI</th>\n",
       "      <th>PR</th>\n",
       "      <th>LAR</th>\n",
       "      <th>Votable Supply</th>\n",
       "      <th>Circulating Supply</th>\n",
       "    </tr>\n",
       "  </thead>\n",
       "  <tbody>\n",
       "    <tr>\n",
       "      <th>756</th>\n",
       "      <td>2026-12-27</td>\n",
       "      <td>3.456457</td>\n",
       "      <td>0.362909</td>\n",
       "      <td>0.064435</td>\n",
       "      <td>0.363381</td>\n",
       "      <td>1.742794e+08</td>\n",
       "      <td>2.704720e+09</td>\n",
       "    </tr>\n",
       "    <tr>\n",
       "      <th>757</th>\n",
       "      <td>2026-12-28</td>\n",
       "      <td>3.610958</td>\n",
       "      <td>0.379356</td>\n",
       "      <td>0.064581</td>\n",
       "      <td>0.373215</td>\n",
       "      <td>1.746744e+08</td>\n",
       "      <td>2.704720e+09</td>\n",
       "    </tr>\n",
       "    <tr>\n",
       "      <th>758</th>\n",
       "      <td>2026-12-29</td>\n",
       "      <td>3.672558</td>\n",
       "      <td>0.389099</td>\n",
       "      <td>0.064724</td>\n",
       "      <td>0.349361</td>\n",
       "      <td>1.750611e+08</td>\n",
       "      <td>2.704720e+09</td>\n",
       "    </tr>\n",
       "    <tr>\n",
       "      <th>759</th>\n",
       "      <td>2026-12-30</td>\n",
       "      <td>3.550599</td>\n",
       "      <td>0.385669</td>\n",
       "      <td>0.064864</td>\n",
       "      <td>0.319766</td>\n",
       "      <td>1.754388e+08</td>\n",
       "      <td>2.704720e+09</td>\n",
       "    </tr>\n",
       "    <tr>\n",
       "      <th>760</th>\n",
       "      <td>2026-12-31</td>\n",
       "      <td>3.646237</td>\n",
       "      <td>0.391991</td>\n",
       "      <td>0.065000</td>\n",
       "      <td>0.281426</td>\n",
       "      <td>1.758068e+08</td>\n",
       "      <td>2.704720e+09</td>\n",
       "    </tr>\n",
       "  </tbody>\n",
       "</table>\n",
       "</div>"
      ],
      "text/plain": [
       "          Date  OP_Price      AVPI        PR       LAR  Votable Supply  \\\n",
       "756 2026-12-27  3.456457  0.362909  0.064435  0.363381    1.742794e+08   \n",
       "757 2026-12-28  3.610958  0.379356  0.064581  0.373215    1.746744e+08   \n",
       "758 2026-12-29  3.672558  0.389099  0.064724  0.349361    1.750611e+08   \n",
       "759 2026-12-30  3.550599  0.385669  0.064864  0.319766    1.754388e+08   \n",
       "760 2026-12-31  3.646237  0.391991  0.065000  0.281426    1.758068e+08   \n",
       "\n",
       "     Circulating Supply  \n",
       "756        2.704720e+09  \n",
       "757        2.704720e+09  \n",
       "758        2.704720e+09  \n",
       "759        2.704720e+09  \n",
       "760        2.704720e+09  "
      ]
     },
     "execution_count": 47,
     "metadata": {},
     "output_type": "execute_result"
    }
   ],
   "source": [
    "data.tail()"
   ]
  },
  {
   "cell_type": "code",
   "execution_count": 48,
   "metadata": {},
   "outputs": [
    {
     "name": "stdout",
     "output_type": "stream",
     "text": [
      "<class 'pandas.core.frame.DataFrame'>\n",
      "Index: 1124 entries, 0 to 760\n",
      "Data columns (total 7 columns):\n",
      " #   Column              Non-Null Count  Dtype         \n",
      "---  ------              --------------  -----         \n",
      " 0   Date                1124 non-null   datetime64[ns]\n",
      " 1   OP_Price            1124 non-null   float64       \n",
      " 2   AVPI                1124 non-null   float64       \n",
      " 3   PR                  1124 non-null   float64       \n",
      " 4   LAR                 1124 non-null   float64       \n",
      " 5   Votable Supply      1124 non-null   float64       \n",
      " 6   Circulating Supply  1124 non-null   float64       \n",
      "dtypes: datetime64[ns](1), float64(6)\n",
      "memory usage: 70.2 KB\n"
     ]
    }
   ],
   "source": [
    "data.info()"
   ]
  },
  {
   "cell_type": "markdown",
   "metadata": {},
   "source": [
    "### Scale Parameters Using MinMaxScaler"
   ]
  },
  {
   "cell_type": "markdown",
   "metadata": {},
   "source": [
    "#### OP_Price"
   ]
  },
  {
   "cell_type": "code",
   "execution_count": 49,
   "metadata": {},
   "outputs": [
    {
     "name": "stdout",
     "output_type": "stream",
     "text": [
      "Min OP Price - 1.17\n",
      "Max OP Price - 5.2\n"
     ]
    }
   ],
   "source": [
    "print('Min OP Price -', round(data['OP_Price'].min(), 2))\n",
    "print('Max OP Price -', round(data['OP_Price'].max(), 2))"
   ]
  },
  {
   "cell_type": "code",
   "execution_count": 50,
   "metadata": {},
   "outputs": [],
   "source": [
    "# MinMax scaling of OP_Price\n",
    "scaler = MinMaxScaler()\n",
    "data['OP_Price_Scaled'] = scaler.fit_transform(data[['OP_Price']])"
   ]
  },
  {
   "cell_type": "code",
   "execution_count": 51,
   "metadata": {},
   "outputs": [
    {
     "name": "stdout",
     "output_type": "stream",
     "text": [
      "Min Scaled OP Price - 0.0\n",
      "Max Scaled OP Price - 1.0\n"
     ]
    }
   ],
   "source": [
    "print('Min Scaled OP Price -', round(data['OP_Price_Scaled'].min(), 2))\n",
    "print('Max Scaled OP Price -',round(data['OP_Price_Scaled'].max(), 2))"
   ]
  },
  {
   "cell_type": "markdown",
   "metadata": {},
   "source": [
    "#### AVPI"
   ]
  },
  {
   "cell_type": "code",
   "execution_count": 52,
   "metadata": {},
   "outputs": [
    {
     "name": "stdout",
     "output_type": "stream",
     "text": [
      "Min AVPI - 0.18\n",
      "Max AVPI - 0.98\n"
     ]
    }
   ],
   "source": [
    "print('Min AVPI -', round(data['AVPI'].min(), 2))\n",
    "print('Max AVPI -', round(data['AVPI'].max(), 2))"
   ]
  },
  {
   "cell_type": "code",
   "execution_count": 53,
   "metadata": {},
   "outputs": [],
   "source": [
    "# MinMax scaling of AVPI\n",
    "scaler = MinMaxScaler()\n",
    "data['AVPI_Scaled'] = scaler.fit_transform(data[['AVPI']])"
   ]
  },
  {
   "cell_type": "code",
   "execution_count": 54,
   "metadata": {},
   "outputs": [
    {
     "name": "stdout",
     "output_type": "stream",
     "text": [
      "Min Scaled AVPI - 0.0\n",
      "Max Scaled AVPI - 1.0\n"
     ]
    }
   ],
   "source": [
    "print('Min Scaled AVPI -', round(data['AVPI_Scaled'].min(), 2))\n",
    "print('Max Scaled AVPI -', round(data['AVPI_Scaled'].max(), 2))"
   ]
  },
  {
   "cell_type": "markdown",
   "metadata": {},
   "source": [
    "#### PR"
   ]
  },
  {
   "cell_type": "code",
   "execution_count": 55,
   "metadata": {},
   "outputs": [
    {
     "name": "stdout",
     "output_type": "stream",
     "text": [
      "Min PR - 0.06\n",
      "Max PR - 0.09\n"
     ]
    }
   ],
   "source": [
    "print('Min PR -', round(data['PR'].min(), 2))\n",
    "print('Max PR -', round(data['PR'].max(), 2))"
   ]
  },
  {
   "cell_type": "code",
   "execution_count": 56,
   "metadata": {},
   "outputs": [],
   "source": [
    "# MinMax scaling of PR\n",
    "scaler = MinMaxScaler()\n",
    "data['PR_Scaled'] = scaler.fit_transform(data[['PR']])"
   ]
  },
  {
   "cell_type": "code",
   "execution_count": 57,
   "metadata": {},
   "outputs": [
    {
     "name": "stdout",
     "output_type": "stream",
     "text": [
      "Min Scaled PR - 0.0\n",
      "Max Scaled PR - 1.0\n"
     ]
    }
   ],
   "source": [
    "print('Min Scaled PR -', round(data['PR_Scaled'].min(), 2))\n",
    "print('Max Scaled PR -', round(data['PR_Scaled'].max(), 2))"
   ]
  },
  {
   "cell_type": "markdown",
   "metadata": {},
   "source": [
    "#### LAR"
   ]
  },
  {
   "cell_type": "code",
   "execution_count": 58,
   "metadata": {},
   "outputs": [
    {
     "name": "stdout",
     "output_type": "stream",
     "text": [
      "Min LAR - 0.03\n",
      "Max LAR - 0.52\n"
     ]
    }
   ],
   "source": [
    "print('Min LAR -', round(data['LAR'].min(), 2))\n",
    "print('Max LAR -', round(data['LAR'].max(), 2))"
   ]
  },
  {
   "cell_type": "code",
   "execution_count": 59,
   "metadata": {},
   "outputs": [],
   "source": [
    "# MinMax scaling of LAR\n",
    "scaler = MinMaxScaler()\n",
    "data['LAR_Scaled'] = scaler.fit_transform(data[['LAR']])"
   ]
  },
  {
   "cell_type": "code",
   "execution_count": 60,
   "metadata": {},
   "outputs": [
    {
     "name": "stdout",
     "output_type": "stream",
     "text": [
      "Min Scaled LAR - 0.0\n",
      "Max Scaled LAR - 1.0\n"
     ]
    }
   ],
   "source": [
    "print('Min Scaled LAR -', round(data['LAR_Scaled'].min(), 2))\n",
    "print('Max Scaled LAR -', round(data['LAR_Scaled'].max(), 2))"
   ]
  },
  {
   "cell_type": "code",
   "execution_count": 61,
   "metadata": {},
   "outputs": [
    {
     "data": {
      "text/plain": [
       "Index(['Date', 'OP_Price', 'AVPI', 'PR', 'LAR', 'Votable Supply',\n",
       "       'Circulating Supply', 'OP_Price_Scaled', 'AVPI_Scaled', 'PR_Scaled',\n",
       "       'LAR_Scaled'],\n",
       "      dtype='object')"
      ]
     },
     "execution_count": 61,
     "metadata": {},
     "output_type": "execute_result"
    }
   ],
   "source": [
    "data.columns"
   ]
  },
  {
   "cell_type": "code",
   "execution_count": 62,
   "metadata": {},
   "outputs": [],
   "source": [
    "all_parameters_merged_data_path = config['merge_and_scale_data']['data']['all_parameters_merged_data_path']"
   ]
  },
  {
   "cell_type": "code",
   "execution_count": 63,
   "metadata": {},
   "outputs": [],
   "source": [
    "data.to_csv(all_parameters_merged_data_path, index=False)"
   ]
  },
  {
   "cell_type": "markdown",
   "metadata": {},
   "source": [
    "### Find Correlation"
   ]
  },
  {
   "cell_type": "code",
   "execution_count": 64,
   "metadata": {},
   "outputs": [],
   "source": [
    "# Function to calculate correlation and normalize it\n",
    "def calculate_normalized_correlations(data, target_column):\n",
    "    \"\"\"\n",
    "    Calculate normalized absolute correlations of all columns with the target column.\n",
    "    \"\"\"\n",
    "    correlation_matrix = data.corr()\n",
    "    absolute_correlations = correlation_matrix[target_column].abs().drop(target_column)\n",
    "    normalized_correlations = absolute_correlations / absolute_correlations.sum()\n",
    "    normalized_correlations = normalized_correlations.round(2).sort_values(ascending=False)\n",
    "    print(\"Normalized Correlations:\")\n",
    "    print(normalized_correlations)\n",
    "    return normalized_correlations\n"
   ]
  },
  {
   "cell_type": "code",
   "execution_count": 65,
   "metadata": {},
   "outputs": [],
   "source": [
    "# Function to calculate weightage ranges based on normalized weights\n",
    "def calculate_weightage_ranges(weights, k=1):\n",
    "    \"\"\"\n",
    "    Calculate weightage ranges for each parameter based on its weight.\n",
    "    \"\"\"\n",
    "    weight_values = np.array(list(weights.values()))\n",
    "    std_dev_weight = np.std(weight_values)\n",
    "\n",
    "    ranges = {\n",
    "        param: (max(weight - k * std_dev_weight, 0), weight + k * std_dev_weight) \n",
    "        for param, weight in weights.items()\n",
    "    }\n",
    "\n",
    "    print(\"\\nWeightage Ranges for Each Parameter:\")\n",
    "    for param, (low, high) in ranges.items():\n",
    "        print(f\"{param}: [{low:.2f}, {high:.2f}]\")\n",
    "\n",
    "    return ranges\n"
   ]
  },
  {
   "cell_type": "code",
   "execution_count": 66,
   "metadata": {},
   "outputs": [
    {
     "name": "stdout",
     "output_type": "stream",
     "text": [
      "\n",
      "Correlation Matrix:\n",
      "                 OP_Price_Scaled  AVPI_Scaled  PR_Scaled  LAR_Scaled  \\\n",
      "OP_Price_Scaled         1.000000     0.357483  -0.422080    0.489695   \n",
      "AVPI_Scaled             0.357483     1.000000   0.204609   -0.214927   \n",
      "PR_Scaled              -0.422080     0.204609   1.000000   -0.618809   \n",
      "LAR_Scaled              0.489695    -0.214927  -0.618809    1.000000   \n",
      "Votable Supply          0.647781    -0.026241  -0.824467    0.722008   \n",
      "\n",
      "                 Votable Supply  \n",
      "OP_Price_Scaled        0.647781  \n",
      "AVPI_Scaled           -0.026241  \n",
      "PR_Scaled             -0.824467  \n",
      "LAR_Scaled             0.722008  \n",
      "Votable Supply         1.000000  \n"
     ]
    },
    {
     "data": {
      "image/png": "[encoded data removed]",
      "text/plain": [
       "<Figure size 1000x800 with 2 Axes>"
      ]
     },
     "metadata": {},
     "output_type": "display_data"
    },
    {
     "name": "stdout",
     "output_type": "stream",
     "text": [
      "Normalized Correlations:\n",
      "PR_Scaled          0.37\n",
      "LAR_Scaled         0.33\n",
      "OP_Price_Scaled    0.29\n",
      "AVPI_Scaled        0.01\n",
      "Name: Votable Supply, dtype: float64\n",
      "\n",
      "Weightage Ranges for Each Parameter:\n",
      "PR_Scaled: [0.23, 0.51]\n",
      "LAR_Scaled: [0.19, 0.47]\n",
      "OP_Price_Scaled: [0.15, 0.43]\n",
      "AVPI_Scaled: [0.00, 0.15]\n"
     ]
    },
    {
     "data": {
      "image/png": "[encoded data removed]",
      "text/plain": [
       "<Figure size 1000x600 with 1 Axes>"
      ]
     },
     "metadata": {},
     "output_type": "display_data"
    },
    {
     "data": {
      "image/png": "[encoded data removed]",
      "text/plain": [
       "<Figure size 1000x600 with 1 Axes>"
      ]
     },
     "metadata": {},
     "output_type": "display_data"
    }
   ],
   "source": [
    "if __name__ == \"__main__\":\n",
    "\n",
    "    data = pd.read_csv(all_parameters_merged_data_path)\n",
    "    data = data[['OP_Price_Scaled', 'AVPI_Scaled', 'PR_Scaled', 'LAR_Scaled', 'Votable Supply']]\n",
    "\n",
    "    # Step 1: Calculate and display the correlation matrix\n",
    "    correlation_matrix = data.corr()\n",
    "    print(\"\\nCorrelation Matrix:\")\n",
    "    print(correlation_matrix)\n",
    "\n",
    "    # Step 2: Plot the heatmap of the correlation matrix\n",
    "    plt.figure(figsize=(10, 8))\n",
    "    sns.heatmap(correlation_matrix, annot=True, cmap='coolwarm', fmt='.2f', linewidths=0.5)\n",
    "    plt.title('Correlation Heatmap')\n",
    "    plt.show()\n",
    "\n",
    "    # Step 3: Calculate normalized correlations\n",
    "    target_column = 'Votable Supply'\n",
    "    normalized_correlations = calculate_normalized_correlations(data, target_column)\n",
    "\n",
    "    # Step 4: Use normalized correlations as weights to calculate ranges\n",
    "    weights = normalized_correlations.to_dict()\n",
    "    weightage_ranges = calculate_weightage_ranges(weights)\n",
    "\n",
    "    # Step 5: Plot Normalized Correlations\n",
    "    plt.figure(figsize=(10, 6))\n",
    "    bars = plt.bar(normalized_correlations.index, normalized_correlations.values, color='skyblue')\n",
    "\n",
    "    for bar in bars:\n",
    "        plt.text(\n",
    "            bar.get_x() + bar.get_width() / 2,  \n",
    "            bar.get_height() + 0.01,           \n",
    "            f'{bar.get_height():.2f}',        \n",
    "            ha='center', va='bottom', fontsize=10, color='black' \n",
    "        )\n",
    "\n",
    "    plt.title('Normalized Correlations with Votable Supply')\n",
    "    plt.xlabel('Feature')\n",
    "    plt.ylabel('Normalized Correlation')\n",
    "    plt.xticks(rotation=45)\n",
    "    plt.show()\n",
    "\n",
    "    # Step 6: Plot Weightage Ranges\n",
    "    weightage_low = [low for low, _ in weightage_ranges.values()]\n",
    "    weightage_high = [high for _, high in weightage_ranges.values()]\n",
    "    params = list(weightage_ranges.keys())\n",
    "\n",
    "    plt.figure(figsize=(10, 6))\n",
    "    plt.barh(params, weightage_high, color='lightcoral', label='Range')\n",
    "    plt.barh(params, weightage_low, color='white')\n",
    "    plt.title('Weightage Ranges for Each Parameter')\n",
    "    plt.xlabel('Weight Range')\n",
    "    plt.ylabel('Parameter')\n",
    "    plt.legend()\n",
    "    plt.show()"
   ]
  }
 ],
 "metadata": {
  "kernelspec": {
   "display_name": "votable_supply",
   "language": "python",
   "name": "python3"
  },
  "language_info": {
   "codemirror_mode": {
    "name": "ipython",
    "version": 3
   },
   "file_extension": ".py",
   "mimetype": "text/x-python",
   "name": "python",
   "nbconvert_exporter": "python",
   "pygments_lexer": "ipython3",
   "version": "3.12.3"
  }
 },
 "nbformat": 4,
 "nbformat_minor": 2
}
