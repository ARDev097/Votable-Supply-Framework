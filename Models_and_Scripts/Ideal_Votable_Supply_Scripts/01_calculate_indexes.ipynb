{
 "cells": [
  {
   "cell_type": "code",
   "execution_count": 30,
   "metadata": {},
   "outputs": [],
   "source": [
    "import pandas as pd\n",
    "import yaml"
   ]
  },
  {
   "cell_type": "code",
   "execution_count": 31,
   "metadata": {},
   "outputs": [],
   "source": [
    "# Load settings from config_01.yaml\n",
    "with open(\"config.yaml\", 'r') as file:\n",
    "    config = yaml.safe_load(file)"
   ]
  },
  {
   "cell_type": "markdown",
   "metadata": {},
   "source": [
    "### Calculate Actual Voting Power Index (AVPI)"
   ]
  },
  {
   "cell_type": "code",
   "execution_count": 32,
   "metadata": {},
   "outputs": [],
   "source": [
    "# Load the dataset\n",
    "avpi_raw_data_path = config['calculate_indexes']['data']['avpi_raw_data_path']\n",
    "avpi_raw_data = pd.read_csv(avpi_raw_data_path, parse_dates=['Date'])"
   ]
  },
  {
   "cell_type": "code",
   "execution_count": 33,
   "metadata": {},
   "outputs": [
    {
     "name": "stdout",
     "output_type": "stream",
     "text": [
      "<class 'pandas.core.frame.DataFrame'>\n",
      "RangeIndex: 363 entries, 0 to 362\n",
      "Data columns (total 3 columns):\n",
      " #   Column                   Non-Null Count  Dtype         \n",
      "---  ------                   --------------  -----         \n",
      " 0   Date                     363 non-null    datetime64[ns]\n",
      " 1   Volume Traded (30 days)  363 non-null    float64       \n",
      " 2   Actual Votable Supply    363 non-null    float64       \n",
      "dtypes: datetime64[ns](1), float64(2)\n",
      "memory usage: 8.6 KB\n"
     ]
    }
   ],
   "source": [
    "avpi_raw_data.info()"
   ]
  },
  {
   "cell_type": "code",
   "execution_count": 34,
   "metadata": {},
   "outputs": [
    {
     "data": {
      "text/html": [
       "<div>\n",
       "<style scoped>\n",
       "    .dataframe tbody tr th:only-of-type {\n",
       "        vertical-align: middle;\n",
       "    }\n",
       "\n",
       "    .dataframe tbody tr th {\n",
       "        vertical-align: top;\n",
       "    }\n",
       "\n",
       "    .dataframe thead th {\n",
       "        text-align: right;\n",
       "    }\n",
       "</style>\n",
       "<table border=\"1\" class=\"dataframe\">\n",
       "  <thead>\n",
       "    <tr style=\"text-align: right;\">\n",
       "      <th></th>\n",
       "      <th>Date</th>\n",
       "      <th>Volume Traded (30 days)</th>\n",
       "      <th>Actual Votable Supply</th>\n",
       "    </tr>\n",
       "  </thead>\n",
       "  <tbody>\n",
       "    <tr>\n",
       "      <th>0</th>\n",
       "      <td>2023-12-04</td>\n",
       "      <td>4.960043e+07</td>\n",
       "      <td>48428776.50</td>\n",
       "    </tr>\n",
       "    <tr>\n",
       "      <th>1</th>\n",
       "      <td>2023-12-05</td>\n",
       "      <td>1.086237e+08</td>\n",
       "      <td>48428776.50</td>\n",
       "    </tr>\n",
       "    <tr>\n",
       "      <th>2</th>\n",
       "      <td>2023-12-06</td>\n",
       "      <td>1.065534e+08</td>\n",
       "      <td>49682254.93</td>\n",
       "    </tr>\n",
       "    <tr>\n",
       "      <th>3</th>\n",
       "      <td>2023-12-07</td>\n",
       "      <td>1.060802e+08</td>\n",
       "      <td>49682254.93</td>\n",
       "    </tr>\n",
       "    <tr>\n",
       "      <th>4</th>\n",
       "      <td>2023-12-08</td>\n",
       "      <td>1.303521e+08</td>\n",
       "      <td>49682254.93</td>\n",
       "    </tr>\n",
       "  </tbody>\n",
       "</table>\n",
       "</div>"
      ],
      "text/plain": [
       "        Date  Volume Traded (30 days)  Actual Votable Supply\n",
       "0 2023-12-04             4.960043e+07            48428776.50\n",
       "1 2023-12-05             1.086237e+08            48428776.50\n",
       "2 2023-12-06             1.065534e+08            49682254.93\n",
       "3 2023-12-07             1.060802e+08            49682254.93\n",
       "4 2023-12-08             1.303521e+08            49682254.93"
      ]
     },
     "execution_count": 34,
     "metadata": {},
     "output_type": "execute_result"
    }
   ],
   "source": [
    "avpi_raw_data.head()"
   ]
  },
  {
   "cell_type": "code",
   "execution_count": 35,
   "metadata": {},
   "outputs": [],
   "source": [
    "avpi_raw_data['AVPI'] = avpi_raw_data['Actual Votable Supply'] / avpi_raw_data['Volume Traded (30 days)']"
   ]
  },
  {
   "cell_type": "code",
   "execution_count": 36,
   "metadata": {},
   "outputs": [],
   "source": [
    "avpi_data_path = config['general']['data']['avpi_historical_data_path']\n",
    "avpi_raw_data.to_csv(avpi_data_path, index=False)"
   ]
  },
  {
   "cell_type": "markdown",
   "metadata": {},
   "source": [
    "### Calculate Liquidity Activity Ratio (LAR)"
   ]
  },
  {
   "cell_type": "code",
   "execution_count": 37,
   "metadata": {},
   "outputs": [],
   "source": [
    "# Load the dataset\n",
    "lar_raw_data_path = config['calculate_indexes']['data']['lar_raw_data_path']\n",
    "lar_raw_data = pd.read_csv(lar_raw_data_path, parse_dates=['Date'])"
   ]
  },
  {
   "cell_type": "code",
   "execution_count": 38,
   "metadata": {},
   "outputs": [
    {
     "name": "stdout",
     "output_type": "stream",
     "text": [
      "<class 'pandas.core.frame.DataFrame'>\n",
      "RangeIndex: 363 entries, 0 to 362\n",
      "Data columns (total 3 columns):\n",
      " #   Column               Non-Null Count  Dtype         \n",
      "---  ------               --------------  -----         \n",
      " 0   Date                 363 non-null    datetime64[ns]\n",
      " 1   Volume Traded (24h)  363 non-null    float64       \n",
      " 2   Circulating Supply   363 non-null    float64       \n",
      "dtypes: datetime64[ns](1), float64(2)\n",
      "memory usage: 8.6 KB\n"
     ]
    }
   ],
   "source": [
    "lar_raw_data.info()"
   ]
  },
  {
   "cell_type": "code",
   "execution_count": 39,
   "metadata": {},
   "outputs": [],
   "source": [
    "lar_raw_data['LAR'] = lar_raw_data['Volume Traded (24h)'] / lar_raw_data['Circulating Supply']"
   ]
  },
  {
   "cell_type": "code",
   "execution_count": 40,
   "metadata": {},
   "outputs": [],
   "source": [
    "lar_data_path = config['general']['data']['lar_historical_data_path']\n",
    "lar_raw_data.to_csv(lar_data_path, index=False)"
   ]
  },
  {
   "cell_type": "markdown",
   "metadata": {},
   "source": [
    "### Calculate Participation Ratio (PR)"
   ]
  },
  {
   "cell_type": "code",
   "execution_count": 41,
   "metadata": {},
   "outputs": [],
   "source": [
    "# Load the dataset\n",
    "pr_raw_data_path = config['calculate_indexes']['data']['pr_raw_data_path']\n",
    "pr_raw_data = pd.read_csv(pr_raw_data_path, parse_dates=['Date'])"
   ]
  },
  {
   "cell_type": "code",
   "execution_count": 42,
   "metadata": {},
   "outputs": [
    {
     "name": "stdout",
     "output_type": "stream",
     "text": [
      "<class 'pandas.core.frame.DataFrame'>\n",
      "RangeIndex: 910 entries, 0 to 909\n",
      "Data columns (total 3 columns):\n",
      " #   Column              Non-Null Count  Dtype         \n",
      "---  ------              --------------  -----         \n",
      " 0   Date                910 non-null    datetime64[ns]\n",
      " 1   Votable Supply      910 non-null    float64       \n",
      " 2   Circulating Supply  910 non-null    float64       \n",
      "dtypes: datetime64[ns](1), float64(2)\n",
      "memory usage: 21.5 KB\n"
     ]
    }
   ],
   "source": [
    "pr_raw_data.info()"
   ]
  },
  {
   "cell_type": "code",
   "execution_count": 43,
   "metadata": {},
   "outputs": [],
   "source": [
    "pr_raw_data['PR'] = pr_raw_data['Votable Supply'] / pr_raw_data['Circulating Supply']"
   ]
  },
  {
   "cell_type": "code",
   "execution_count": 44,
   "metadata": {},
   "outputs": [],
   "source": [
    "pr_data_path = config['general']['data']['pr_historical_data_path']\n",
    "pr_raw_data.to_csv(pr_data_path, index=False)"
   ]
  }
 ],
 "metadata": {
  "kernelspec": {
   "display_name": "votable_supply",
   "language": "python",
   "name": "python3"
  },
  "language_info": {
   "codemirror_mode": {
    "name": "ipython",
    "version": 3
   },
   "file_extension": ".py",
   "mimetype": "text/x-python",
   "name": "python",
   "nbconvert_exporter": "python",
   "pygments_lexer": "ipython3",
   "version": "3.12.3"
  }
 },
 "nbformat": 4,
 "nbformat_minor": 2
}
