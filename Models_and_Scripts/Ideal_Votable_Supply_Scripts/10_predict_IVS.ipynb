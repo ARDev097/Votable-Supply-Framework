{
 "cells": [
  {
   "cell_type": "code",
   "execution_count": null,
   "metadata": {},
   "outputs": [],
   "source": [
    "import pandas as pd\n",
    "import matplotlib.pyplot as plt\n",
    "import matplotlib.ticker as ticker\n",
    "import yaml\n",
    "from sklearn.preprocessing import StandardScaler, PolynomialFeatures\n",
    "from sklearn.linear_model import LinearRegression\n",
    "from sklearn.metrics import mean_squared_error, mean_absolute_error, r2_score"
   ]
  },
  {
   "cell_type": "code",
   "execution_count": null,
   "metadata": {},
   "outputs": [],
   "source": [
    "# Load settings from config.yaml\n",
    "with open(\"config.yaml\", 'r') as file:\n",
    "    config = yaml.safe_load(file)"
   ]
  },
  {
   "cell_type": "code",
   "execution_count": null,
   "metadata": {},
   "outputs": [],
   "source": [
    "all_parameters_with_IVS_data_path = config['calculate_final_IVS']['data']['calculated_daily_IVS_data_path']"
   ]
  },
  {
   "cell_type": "markdown",
   "metadata": {},
   "source": [
    "### Test using Polynomial Regression"
   ]
  },
  {
   "cell_type": "code",
   "execution_count": null,
   "metadata": {},
   "outputs": [],
   "source": [
    "# Step 1: Prepare the data\n",
    "data = pd.read_csv(all_parameters_with_IVS_data_path, parse_dates=['Date'])\n",
    "\n",
    "data = data[['Date', 'Votable Supply',\n",
    "              'Circulating Supply', 'F', 'IVS']]\n",
    "\n",
    "# Split the data into training and testing based on the date range\n",
    "train_data = data[(data['Date'] >= \"2023-12-04\") & (data['Date'] <= \"2024-08-31\")]\n",
    "test_data = data[(data['Date'] >= \"2024-09-01\") & (data['Date'] <= \"2024-11-30\")]\n",
    "\n",
    "# Separate features and target variable\n",
    "X_train = train_data.drop(columns=[\"Date\", \"IVS\"])\n",
    "y_train = train_data[\"IVS\"]\n",
    "\n",
    "X_test = test_data.drop(columns=[\"Date\", \"IVS\"])\n",
    "y_test = test_data[\"IVS\"]\n",
    "\n",
    "# Step 2: Scale the OP_Token_Balance column only\n",
    "scaler = StandardScaler()\n",
    "\n",
    "# Scale OP_Token_Balance for both training and testing\n",
    "X_train_scaled = X_train.copy()\n",
    "X_test_scaled = X_test.copy()\n",
    "\n",
    "X_train_scaled['Votable Supply'] = scaler.fit_transform(X_train[['Votable Supply']])\n",
    "X_test_scaled['Votable Supply'] = scaler.transform(X_test[['Votable Supply']])\n",
    "\n",
    "X_train_scaled['Circulating Supply'] = scaler.fit_transform(X_train[['Circulating Supply']])\n",
    "X_test_scaled['Circulating Supply'] = scaler.transform(X_test[['Circulating Supply']])\n",
    "\n",
    "X_train_scaled['F'] = scaler.fit_transform(X_train[['F']])\n",
    "X_test_scaled['F'] = scaler.transform(X_test[['F']])\n",
    "\n",
    "# Step 3: Apply Polynomial Transformation (you can adjust the degree)\n",
    "poly = PolynomialFeatures(degree = 2)\n",
    "\n",
    "# Transform features into polynomial features\n",
    "X_train_poly = poly.fit_transform(X_train_scaled)\n",
    "X_test_poly = poly.transform(X_test_scaled)\n",
    "\n",
    "# Step 4: Train the Polynomial Regression model\n",
    "# Initialize the model\n",
    "poly_lr_model = LinearRegression()\n",
    "\n",
    "# Train the model on the polynomial transformed training data\n",
    "poly_lr_model.fit(X_train_poly, y_train)\n",
    "\n",
    "# Step 5: Evaluate the model\n",
    "# Predict on the transformed test data\n",
    "y_pred_poly = poly_lr_model.predict(X_test_poly)\n",
    "\n",
    "# Add predictions to the test data for visualization\n",
    "test_data['Predicted_IVS'] = y_pred_poly\n",
    "\n",
    "# Sort the test data by the 'Date' column\n",
    "test_data = test_data.sort_values(by='Date')\n",
    "\n",
    "# Plotting for Polynomial Regression\n",
    "plt.figure(figsize=(12, 6))\n",
    "plt.scatter(test_data['Date'], test_data['IVS'], color='blue', label='Actual IVS', alpha=0.6)\n",
    "plt.plot(test_data['Date'], test_data['Predicted_IVS'], color='red', label='Predicted IVS', linewidth=2)\n",
    "plt.title('Actual vs Predicted IVS over Time (Polynomial Regression)', fontsize=16)\n",
    "plt.xlabel('Date', fontsize=12)\n",
    "plt.ylabel('IVS', fontsize=12)\n",
    "plt.legend()\n",
    "plt.xticks(rotation=45)\n",
    "plt.tight_layout()\n",
    "plt.show()\n",
    "\n",
    "# Coefficients of the polynomial model\n",
    "print(\"Coefficients of the Polynomial model:\", poly_lr_model.coef_)\n",
    "\n",
    "# Calculate error metrics\n",
    "mae_poly = mean_absolute_error(y_test, y_pred_poly)\n",
    "mse_poly = mean_squared_error(y_test, y_pred_poly)\n",
    "rmse_poly = mse_poly ** 0.5\n",
    "r2_poly = r2_score(y_test, y_pred_poly)\n",
    "\n",
    "# Display results\n",
    "print(f\"Mean Absolute Error (MAE) for Polynomial Regression: {mae_poly:.4f}\")\n",
    "print(f\"Mean Squared Error (MSE) for Polynomial Regression: {mse_poly:.4f}\")\n",
    "print(f\"Root Mean Squared Error (RMSE) for Polynomial Regression: {rmse_poly:.4f}\")\n",
    "print(f\"R² Score for Polynomial Regression: {r2_poly:.4f}\")\n"
   ]
  },
  {
   "cell_type": "markdown",
   "metadata": {},
   "source": [
    "### Predict future IVS"
   ]
  },
  {
   "cell_type": "code",
   "execution_count": null,
   "metadata": {},
   "outputs": [],
   "source": [
    "# Load the complete dataset\n",
    "data = pd.read_csv(all_parameters_with_IVS_data_path, parse_dates=['Date'])\n",
    "\n",
    "# Select relevant columns\n",
    "data = data[['Date', 'Votable Supply',\n",
    "             'Circulating Supply', 'F', 'IVS']]\n",
    "\n",
    "# Convert 'Date' column to datetime\n",
    "data['Date'] = pd.to_datetime(data['Date'])\n",
    "\n",
    "# Split the data\n",
    "train_data = data[(data['Date'] >= \"2023-12-04\") & (data['Date'] <= \"2024-11-30\")]\n",
    "future_data = data[(data['Date'] >= \"2024-12-01\") & (data['Date'] <= \"2026-12-31\")]\n",
    "\n",
    "# Separate features and target\n",
    "X_train = train_data.drop(columns=[\"Date\", \"IVS\"])\n",
    "y_train = train_data[\"IVS\"]\n",
    "\n",
    "X_future = future_data.drop(columns=[\"Date\", \"IVS\"])  \n",
    "\n",
    "# Standardization using scalers trained on the training data\n",
    "scaler_votable = StandardScaler()\n",
    "scaler_circulating = StandardScaler()\n",
    "scaler_f = StandardScaler()\n",
    "\n",
    "X_train_scaled = X_train.copy()\n",
    "X_train_scaled['Votable Supply'] = scaler_votable.fit_transform(X_train[['Votable Supply']])\n",
    "X_train_scaled['Circulating Supply'] = scaler_circulating.fit_transform(X_train[['Circulating Supply']])\n",
    "X_train_scaled['F'] = scaler_f.fit_transform(X_train[['F']])\n",
    "\n",
    "# Apply the same scalers to future data\n",
    "X_future_scaled = X_future.copy()\n",
    "X_future_scaled['Votable Supply'] = scaler_votable.transform(X_future[['Votable Supply']])\n",
    "X_future_scaled['Circulating Supply'] = scaler_circulating.transform(X_future[['Circulating Supply']])\n",
    "X_future_scaled['F'] = scaler_f.transform(X_future[['F']])\n",
    "\n",
    "# Apply Polynomial Features Transformation\n",
    "poly = PolynomialFeatures(degree=2)\n",
    "X_train_poly = poly.fit_transform(X_train_scaled)\n",
    "X_future_poly = poly.transform(X_future_scaled)\n",
    "\n",
    "# Train Polynomial Regression Model\n",
    "poly_lr_model = LinearRegression()\n",
    "poly_lr_model.fit(X_train_poly, y_train)\n",
    "\n",
    "# Predict IVS for the future period\n",
    "future_data['IVS'] = poly_lr_model.predict(X_future_poly)\n",
    "\n",
    "# Save Predictions to CSV\n",
    "predicted_IVS_data_path = config['predicted_IVS']['data']['predicted_daily_IVS_data_path']\n",
    "future_data.to_csv(predicted_IVS_data_path, index=False)\n",
    "\n",
    "# Plot Predictions\n",
    "plt.figure(figsize=(12, 6))\n",
    "plt.plot(data['Date'], data['IVS'], color='red', label='Actual IVS')\n",
    "plt.plot(future_data['Date'], future_data['IVS'], color='green', label='Predicted IVS')\n",
    "plt.title('Predicted IVS from 2024-12-01 to 2026-12-31', fontsize=16)\n",
    "plt.xlabel('Date', fontsize=12)\n",
    "plt.ylabel('IVS', fontsize=12)\n",
    "plt.legend()\n",
    "plt.xticks(rotation=45)\n",
    "plt.tight_layout()\n",
    "plt.show()\n"
   ]
  },
  {
   "cell_type": "markdown",
   "metadata": {},
   "source": [
    "### Plot the predicion results"
   ]
  },
  {
   "cell_type": "code",
   "execution_count": null,
   "metadata": {},
   "outputs": [],
   "source": [
    "data = pd.read_csv(all_parameters_with_IVS_data_path, parse_dates=['Date'])\n",
    "data = data[['Date', 'Votable Supply', 'IVS']]\n",
    "\n",
    "pred_data = pd.read_csv(predicted_IVS_data_path, parse_dates=['Date'])\n",
    "pred_data = pred_data[['Date', 'Votable Supply', 'IVS']]"
   ]
  },
  {
   "cell_type": "code",
   "execution_count": null,
   "metadata": {},
   "outputs": [],
   "source": [
    "combined_data = pd.concat([data, pred_data])"
   ]
  },
  {
   "cell_type": "code",
   "execution_count": null,
   "metadata": {},
   "outputs": [],
   "source": [
    "# Resample by month and take the mean\n",
    "monthly_data = pred_data.resample('M', on='Date')[['Votable Supply', 'IVS']].mean()\n",
    "monthly_IVS_data_path = config['predicted_IVS']['data']['predicted_monthly_IVS_data_path']\n",
    "monthly_data.to_csv(monthly_IVS_data_path, index=True)"
   ]
  },
  {
   "cell_type": "code",
   "execution_count": null,
   "metadata": {},
   "outputs": [],
   "source": [
    "# Create the figure and axis\n",
    "fig, ax = plt.subplots(figsize=(10, 5))\n",
    "\n",
    "# Plot the data\n",
    "ax.plot(monthly_data.index, monthly_data[\"Votable Supply\"], marker='o', color='blue', label=\"Votable Supply\")\n",
    "ax.plot(monthly_data.index, monthly_data[\"IVS\"], marker='o', color='purple', label=\"Predicted Ideal Votable Supply\")\n",
    "\n",
    "# Format y-axis in Millions\n",
    "ax.yaxis.set_major_formatter(ticker.FuncFormatter(lambda x, pos: f'{x / 1e6:.1f}M'))\n",
    "\n",
    "# Labels and title\n",
    "ax.set_xlabel(\"Date\")\n",
    "ax.set_ylabel(\"VS and IVS (in Millions)\")\n",
    "ax.set_title(\"VS and IVS Over Time\")\n",
    "ax.legend()\n",
    "\n",
    "# Rotate x-axis labels for better readability\n",
    "plt.xticks(rotation=45)\n",
    "\n",
    "# Show the plot\n",
    "plt.show()"
   ]
  },
  {
   "cell_type": "markdown",
   "metadata": {},
   "source": [
    "### Plot VS+FVS, Calculated_IVS, Predicted_IVS"
   ]
  },
  {
   "cell_type": "markdown",
   "metadata": {},
   "source": [
    "#### Monthly Graph"
   ]
  },
  {
   "cell_type": "code",
   "execution_count": null,
   "metadata": {},
   "outputs": [],
   "source": [
    "calculated_monthly_IVS_data_path = config['calculate_final_IVS']['data']['calculated_monthly_IVS_data_path']\n",
    "predicted_monthly_IVS_data_path = config['predicted_IVS']['data']['predicted_monthly_IVS_data_path']\n",
    "all_parameters_data_path = config['merge_and_scale_data']['data']['all_parameters_merged_data_path']"
   ]
  },
  {
   "cell_type": "code",
   "execution_count": null,
   "metadata": {},
   "outputs": [],
   "source": [
    "calc_data = pd.read_csv(calculated_monthly_IVS_data_path, parse_dates=['Date'])\n",
    "pred_data = pd.read_csv(monthly_IVS_data_path, parse_dates=['Date'])\n",
    "data = pd.read_csv(all_parameters_data_path, parse_dates=['Date'])"
   ]
  },
  {
   "cell_type": "code",
   "execution_count": null,
   "metadata": {},
   "outputs": [],
   "source": [
    "monthly_VS = data.resample('M', on='Date')[['Votable Supply']].mean()"
   ]
  },
  {
   "cell_type": "code",
   "execution_count": null,
   "metadata": {},
   "outputs": [],
   "source": [
    "# Create the figure and axis\n",
    "fig, ax = plt.subplots(figsize=(10, 5))\n",
    "\n",
    "# Plot the data\n",
    "ax.plot(calc_data['Date'], calc_data[\"IVS\"], marker='o', color='blue', label=\"IVS (Calculated)\")\n",
    "ax.plot(pred_data['Date'], pred_data[\"IVS\"], marker='o', color='red', label=\"IVS (Predicted)\")\n",
    "ax.plot(monthly_VS.index, monthly_VS[\"Votable Supply\"], marker='o', color='green', label=\"VS + FVS\")\n",
    "ax.plot()\n",
    "\n",
    "# Format y-axis in Millions\n",
    "ax.yaxis.set_major_formatter(ticker.FuncFormatter(lambda x, pos: f'{x / 1e6:.1f}M'))\n",
    "\n",
    "# Labels and title\n",
    "ax.set_xlabel(\"Date\")\n",
    "ax.set_ylabel(\"VS and IVS (in Millions)\")\n",
    "ax.set_title(\"VS and IVS Over Time\")\n",
    "ax.legend()\n",
    "\n",
    "# Rotate x-axis labels for better readability\n",
    "plt.xticks(rotation=45)\n",
    "\n",
    "# Show the plot\n",
    "plt.show()"
   ]
  }
 ],
 "metadata": {
  "kernelspec": {
   "display_name": "votable_supply",
   "language": "python",
   "name": "python3"
  },
  "language_info": {
   "codemirror_mode": {
    "name": "ipython",
    "version": 3
   },
   "file_extension": ".py",
   "mimetype": "text/x-python",
   "name": "python",
   "nbconvert_exporter": "python",
   "pygments_lexer": "ipython3",
   "version": "3.12.3"
  }
 },
 "nbformat": 4,
 "nbformat_minor": 2
}
