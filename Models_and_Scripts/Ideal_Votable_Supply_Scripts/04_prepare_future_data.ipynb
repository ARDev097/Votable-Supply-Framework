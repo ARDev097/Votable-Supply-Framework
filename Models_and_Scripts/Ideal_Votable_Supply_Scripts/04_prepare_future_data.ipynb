{
 "cells": [
  {
   "cell_type": "code",
   "execution_count": null,
   "metadata": {},
   "outputs": [],
   "source": [
    "import pandas as pd\n",
    "import numpy as np\n",
    "import matplotlib.pyplot as plt\n",
    "import matplotlib.ticker as ticker\n",
    "import seaborn as sns"
   ]
  },
  {
   "cell_type": "markdown",
   "metadata": {},
   "source": [
    "### Combine all the predicted data"
   ]
  },
  {
   "cell_type": "code",
   "execution_count": null,
   "metadata": {},
   "outputs": [],
   "source": [
    "vs_data = pd.read_csv(\"../../Dataset/Future_Votable_Supply/FVS_Daywise_Data.csv\")\n",
    "cs_data = pd.read_csv(\"../../Dataset/Future_Circulating_Supply/FCS_Daywise_Data.csv\")\n",
    "op_price_data = pd.read_csv(\"../../Dataset/Prediction_Data/OP_Price/OP_Price_Future_Data.csv\")\n",
    "avpi_data = pd.read_csv(\"../../Dataset/Prediction_Data/Actual_Voting_Power_Index/AVPI_Future_Data.csv\")\n",
    "pr_data = pd.read_csv(\"../../Dataset/Prediction_Data/Participation_Ratio/PR_Future_Data.csv\")\n",
    "lar_data = pd.read_csv(\"../../Dataset/Prediction_Data/Liquidity_Activity_Ratio/LAR_Future_Data.csv\")"
   ]
  },
  {
   "cell_type": "code",
   "execution_count": null,
   "metadata": {},
   "outputs": [],
   "source": [
    "vs_data['Date'] = pd.to_datetime(vs_data['Date'])\n",
    "cs_data['Date'] = pd.to_datetime(cs_data['Date'])\n",
    "op_price_data['Date'] = pd.to_datetime(op_price_data['Date'])\n",
    "avpi_data['Date'] = pd.to_datetime(avpi_data['Date'])\n",
    "pr_data['Date'] = pd.to_datetime(pr_data['Date'], dayfirst=True)\n",
    "lar_data['Date'] = pd.to_datetime(lar_data['Date'])"
   ]
  },
  {
   "cell_type": "code",
   "execution_count": null,
   "metadata": {},
   "outputs": [],
   "source": [
    "print(\"OP_Price :\")\n",
    "print(\"Min -\",round(op_price_data['OP_Price'].min(), 2),\", Max -\",round(op_price_data['OP_Price'].max(), 2))\n",
    "\n",
    "print(\"\\nAVPI :\")\n",
    "print(\"Min -\",round(avpi_data['AVPI'].min(), 2),\", Max -\",round(avpi_data['AVPI'].max(), 2))\n",
    "\n",
    "print(\"\\nPR :\")\n",
    "print(\"Min -\",round(pr_data['PR'].min(), 2),\", Max -\",round(pr_data['PR'].max(), 2))\n",
    "\n",
    "print(\"\\nLAR :\")\n",
    "print(\"Min -\",round(lar_data['LAR'].min(), 2),\", Max -\",round(lar_data['LAR'].max(), 2))"
   ]
  },
  {
   "cell_type": "code",
   "execution_count": null,
   "metadata": {},
   "outputs": [],
   "source": [
    "# Merge datasets on the 'Date' column\n",
    "merged_data = pd.merge(op_price_data, avpi_data, on=\"Date\", how=\"left\")\n",
    "merged_data = pd.merge(merged_data, pr_data, on=\"Date\", how=\"left\")\n",
    "merged_data = pd.merge(merged_data, lar_data, on=\"Date\", how=\"left\")\n",
    "merged_data = pd.merge(merged_data, vs_data, on=\"Date\", how=\"left\")\n",
    "merged_data = pd.merge(merged_data, cs_data, on=\"Date\", how=\"left\")"
   ]
  },
  {
   "cell_type": "code",
   "execution_count": null,
   "metadata": {},
   "outputs": [],
   "source": [
    "merged_data.info()"
   ]
  },
  {
   "cell_type": "code",
   "execution_count": null,
   "metadata": {},
   "outputs": [],
   "source": [
    "# Create the figure and axis\n",
    "fig, ax = plt.subplots(figsize=(10, 5))\n",
    "\n",
    "# Plot the data\n",
    "ax.plot(merged_data['Date'], merged_data[\"OP_Price\"], color='blue', label=\"OP_Price\")\n",
    "ax.plot()\n",
    "\n",
    "# Labels and title\n",
    "ax.set_xlabel(\"Date\")\n",
    "ax.set_ylabel(\"OP_Price\")\n",
    "ax.set_title(\"OP_Price Over Time (Daily Data)\")\n",
    "ax.legend()\n",
    "\n",
    "# Rotate x-axis labels for better readability\n",
    "plt.xticks(rotation=45)\n",
    "\n",
    "# Show the plot\n",
    "plt.show()"
   ]
  },
  {
   "cell_type": "code",
   "execution_count": null,
   "metadata": {},
   "outputs": [],
   "source": [
    "# Create the figure and axis\n",
    "fig, ax = plt.subplots(figsize=(10, 5))\n",
    "\n",
    "# Plot the data\n",
    "ax.plot(merged_data['Date'], merged_data[\"AVPI\"], color='green', label=\"AVPI\")\n",
    "ax.plot()\n",
    "\n",
    "# Labels and title\n",
    "ax.set_xlabel(\"Date\")\n",
    "ax.set_ylabel(\"AVPI\")\n",
    "ax.set_title(\"AVPI Over Time (Daily Data)\")\n",
    "ax.legend()\n",
    "\n",
    "# Rotate x-axis labels for better readability\n",
    "plt.xticks(rotation=45)\n",
    "\n",
    "# Show the plot\n",
    "plt.show()"
   ]
  },
  {
   "cell_type": "code",
   "execution_count": null,
   "metadata": {},
   "outputs": [],
   "source": [
    "# Create the figure and axis\n",
    "fig, ax = plt.subplots(figsize=(10, 5))\n",
    "\n",
    "# Plot the data\n",
    "ax.plot(merged_data['Date'], merged_data[\"PR\"], color='red', label=\"PR\")\n",
    "ax.plot()\n",
    "\n",
    "# Labels and title\n",
    "ax.set_xlabel(\"Date\")\n",
    "ax.set_ylabel(\"PR\")\n",
    "ax.set_title(\"PR Over Time (Daily Data)\")\n",
    "ax.legend()\n",
    "\n",
    "# Rotate x-axis labels for better readability\n",
    "plt.xticks(rotation=45)\n",
    "\n",
    "# Show the plot\n",
    "plt.show()"
   ]
  },
  {
   "cell_type": "code",
   "execution_count": null,
   "metadata": {},
   "outputs": [],
   "source": [
    "# Create the figure and axis\n",
    "fig, ax = plt.subplots(figsize=(10, 5))\n",
    "\n",
    "# Plot the data\n",
    "ax.plot(merged_data['Date'], merged_data[\"LAR\"], color='purple', label=\"LAR\")\n",
    "ax.plot()\n",
    "\n",
    "# Labels and title\n",
    "ax.set_xlabel(\"Date\")\n",
    "ax.set_ylabel(\"LAR\")\n",
    "ax.set_title(\"LAR Over Time (Daily Data)\")\n",
    "ax.legend()\n",
    "\n",
    "# Rotate x-axis labels for better readability\n",
    "plt.xticks(rotation=45)\n",
    "\n",
    "# Show the plot\n",
    "plt.show()"
   ]
  },
  {
   "cell_type": "code",
   "execution_count": null,
   "metadata": {},
   "outputs": [],
   "source": [
    "merged_data.to_csv(\"../../Dataset/Ideal_Votable_Supply_Data/All_Parameters_Future_Data.csv\",index=False)"
   ]
  }
 ],
 "metadata": {
  "kernelspec": {
   "display_name": "votable_supply",
   "language": "python",
   "name": "python3"
  },
  "language_info": {
   "codemirror_mode": {
    "name": "ipython",
    "version": 3
   },
   "file_extension": ".py",
   "mimetype": "text/x-python",
   "name": "python",
   "nbconvert_exporter": "python",
   "pygments_lexer": "ipython3",
   "version": "3.12.3"
  }
 },
 "nbformat": 4,
 "nbformat_minor": 2
}
