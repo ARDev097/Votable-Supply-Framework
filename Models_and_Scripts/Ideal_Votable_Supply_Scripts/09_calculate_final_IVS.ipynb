{
 "cells": [
  {
   "cell_type": "code",
   "execution_count": null,
   "metadata": {},
   "outputs": [],
   "source": [
    "import pandas as pd\n",
    "import numpy as np\n",
    "import matplotlib.pyplot as plt\n",
    "import matplotlib.ticker as ticker"
   ]
  },
  {
   "cell_type": "code",
   "execution_count": null,
   "metadata": {},
   "outputs": [],
   "source": [
    "# Load the ideal weights data\n",
    "weights_data = pd.read_csv(\"../../Dataset/Ideal_Votable_Supply_Data/Ideal_Weights.csv\")\n",
    "\n",
    "# Load the indexes data\n",
    "data = pd.read_csv(\"../../Dataset/Ideal_Votable_Supply_Data/All_Parameters_Data.csv\")\n",
    "\n",
    "# Extract the weights with the highest total score\n",
    "best_weights_row = weights_data.loc[weights_data['Total Score'].idxmax()]\n",
    "weights_str = best_weights_row['Weights']\n",
    "\n",
    "# Extract individual weights from the weights string (assuming 'w1', 'w2', 'w3', 'w4' format)\n",
    "weights = {f\"w{i+1}\": float(val.split('=')[1]) for i, val in enumerate(weights_str.split(','))}\n",
    "\n",
    "# Calculate the 'F' column using the extracted weights\n",
    "data['F'] = round(\n",
    "        (1 / (1 + (weights['w1'] * data['PR_Scaled']))) *\n",
    "        (1 + (weights['w2'] * data['LAR_Scaled'])) * \n",
    "        (1 / (1 + (weights['w3'] * data['OP_Price_Scaled']))) *\n",
    "        (1 + (weights['w4'] * data['AVPI_Scaled'])), 6)\n",
    "\n",
    "# Calculate the 'Videal' column\n",
    "f_max = data['F'].max() \n",
    " \n",
    "beta = 1.35\n",
    "alpha = 0.7\n",
    "\n",
    "F_min = data['F'].min()\n",
    "F_max = data['F'].max()\n",
    "\n",
    "data['IVS'] = round(data['Votable Supply'] * (beta + (np.exp(alpha * ((data['F'] - F_min) / (F_max - F_min))) - 1)), 2)\n",
    "\n",
    "print('w1 -', weights['w1'])\n",
    "print('w2 -', weights['w2'])\n",
    "print('w3 -', weights['w3'])\n",
    "print('w4 -', weights['w4'])\n",
    "\n",
    "data.to_csv(\"../../Dataset/Ideal_Votable_Supply_Data/Calculated_IVS/All_Parameters_Data_with_IVS.csv\", index=False)\n"
   ]
  },
  {
   "cell_type": "code",
   "execution_count": null,
   "metadata": {},
   "outputs": [],
   "source": [
    "data = pd.read_csv(\"../../Dataset/Ideal_Votable_Supply_Data/Calculated_IVS/All_Parameters_Data_with_IVS.csv\")"
   ]
  },
  {
   "cell_type": "code",
   "execution_count": null,
   "metadata": {},
   "outputs": [],
   "source": [
    "data['Date'] = pd.to_datetime(data['Date'])"
   ]
  },
  {
   "cell_type": "code",
   "execution_count": null,
   "metadata": {},
   "outputs": [],
   "source": [
    "f_min = data['F'].min()\n",
    "f_min"
   ]
  },
  {
   "cell_type": "code",
   "execution_count": null,
   "metadata": {},
   "outputs": [],
   "source": [
    "f_max = data['F'].max()\n",
    "f_max"
   ]
  },
  {
   "cell_type": "code",
   "execution_count": null,
   "metadata": {},
   "outputs": [],
   "source": [
    "# Resample by month and take the mean\n",
    "monthly_data = data.resample('M', on='Date')[['Votable Supply', 'IVS']].mean()\n",
    "\n",
    "monthly_data['IVS/VS'] = round(monthly_data['IVS'] / monthly_data['Votable Supply'], 2)\n",
    "\n",
    "# Save to CSV\n",
    "monthly_data.to_csv('../../Dataset/Ideal_Votable_Supply_Data/Calculated_IVS/Calculated_Monthly_VS_and_IVS.csv', index=True)\n"
   ]
  },
  {
   "cell_type": "code",
   "execution_count": null,
   "metadata": {},
   "outputs": [],
   "source": [
    "print(monthly_data['IVS/VS'].min())\n",
    "print(monthly_data['IVS/VS'].max())"
   ]
  },
  {
   "cell_type": "code",
   "execution_count": null,
   "metadata": {},
   "outputs": [],
   "source": [
    "monthly_data"
   ]
  },
  {
   "cell_type": "code",
   "execution_count": null,
   "metadata": {},
   "outputs": [],
   "source": [
    "# Resample by quarter and take the mean\n",
    "quarterly_data = data.resample('Q', on='Date')[['Votable Supply', 'IVS']].mean()\n",
    "\n",
    "quarterly_data['IVS/VS'] = round(quarterly_data['IVS'] / quarterly_data['Votable Supply'], 2)\n",
    "\n",
    "# Save to CSV\n",
    "quarterly_data.to_csv('../../Dataset/Ideal_Votable_Supply_Data/Calculated_IVS/Calculated_Quarterly_VS_and_IVS.csv', index=True)\n"
   ]
  },
  {
   "cell_type": "code",
   "execution_count": null,
   "metadata": {},
   "outputs": [],
   "source": [
    "quarterly_data"
   ]
  },
  {
   "cell_type": "code",
   "execution_count": null,
   "metadata": {},
   "outputs": [],
   "source": [
    "# Create the figure and axis\n",
    "fig, ax = plt.subplots(figsize=(10, 5))\n",
    "\n",
    "# Plot the data\n",
    "ax.plot(monthly_data.index, monthly_data[\"Votable Supply\"], marker='o', color='blue', label=\"Votable Supply\")\n",
    "ax.plot(monthly_data.index, monthly_data[\"IVS\"], marker='o', color='red', label=\"Ideal Votable Supply\")\n",
    "\n",
    "# Format y-axis in Millions\n",
    "ax.yaxis.set_major_formatter(ticker.FuncFormatter(lambda x, pos: f'{x / 1e6:.1f}M'))\n",
    "\n",
    "# Labels and title\n",
    "ax.set_xlabel(\"Date\")\n",
    "ax.set_ylabel(\"VS and IVS (in Millions)\")\n",
    "ax.set_title(\"VS and IVS Over Time\")\n",
    "ax.legend()\n",
    "\n",
    "# Rotate x-axis labels for better readability\n",
    "plt.xticks(rotation=45)\n",
    "\n",
    "# Show the plot\n",
    "plt.show()\n"
   ]
  },
  {
   "cell_type": "code",
   "execution_count": null,
   "metadata": {},
   "outputs": [],
   "source": [
    "# Create the figure and axis\n",
    "fig, ax = plt.subplots(figsize=(10, 5))\n",
    "\n",
    "# Plot the data\n",
    "ax.plot(data['Date'], data[\"Votable Supply\"], color='blue', label=\"Votable Supply\")\n",
    "ax.plot(data['Date'], data[\"IVS\"], color='red', label=\"Ideal Votable Supply\")\n",
    "\n",
    "# Format y-axis in Millions\n",
    "ax.yaxis.set_major_formatter(ticker.FuncFormatter(lambda x, pos: f'{x / 1e6:.1f}M'))\n",
    "\n",
    "# Labels and title\n",
    "ax.set_xlabel(\"Date\")\n",
    "ax.set_ylabel(\"VS and IVS (in Millions)\")\n",
    "ax.set_title(\"VS and IVS Over Time\")\n",
    "ax.legend()\n",
    "\n",
    "# Rotate x-axis labels for better readability\n",
    "plt.xticks(rotation=45)\n",
    "\n",
    "# Show the plot\n",
    "plt.show()\n"
   ]
  },
  {
   "cell_type": "markdown",
   "metadata": {},
   "source": [
    "### Quarterly Results of IVS"
   ]
  }
 ],
 "metadata": {
  "kernelspec": {
   "display_name": "votable_supply",
   "language": "python",
   "name": "python3"
  },
  "language_info": {
   "codemirror_mode": {
    "name": "ipython",
    "version": 3
   },
   "file_extension": ".py",
   "mimetype": "text/x-python",
   "name": "python",
   "nbconvert_exporter": "python",
   "pygments_lexer": "ipython3",
   "version": "3.12.3"
  }
 },
 "nbformat": 4,
 "nbformat_minor": 2
}
