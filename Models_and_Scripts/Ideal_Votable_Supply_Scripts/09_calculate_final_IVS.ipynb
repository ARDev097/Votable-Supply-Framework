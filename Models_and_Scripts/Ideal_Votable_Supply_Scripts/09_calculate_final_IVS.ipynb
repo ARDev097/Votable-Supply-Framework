{
 "cells": [
  {
   "cell_type": "code",
   "execution_count": null,
   "metadata": {},
   "outputs": [],
   "source": [
    "import pandas as pd\n",
    "import numpy as np\n",
    "import yaml\n",
    "import matplotlib.pyplot as plt\n",
    "import matplotlib.ticker as ticker"
   ]
  },
  {
   "cell_type": "code",
   "execution_count": null,
   "metadata": {},
   "outputs": [],
   "source": [
    "# Load settings from config.yaml\n",
    "with open(\"config.yaml\", 'r') as file:\n",
    "    config = yaml.safe_load(file)"
   ]
  },
  {
   "cell_type": "code",
   "execution_count": null,
   "metadata": {},
   "outputs": [],
   "source": [
    "# Load the ideal weights data\n",
    "ideal_weights_data_path = config['ideal_weights']['data']['ideal_weights_data_path']\n",
    "weights_data = pd.read_csv(ideal_weights_data_path)\n",
    "\n",
    "# Load the indexes data\n",
    "all_parameters_data_path = config['merge_and_scale_data']['data']['all_parameters_merged_data_path']\n",
    "data = pd.read_csv(all_parameters_data_path, parse_dates=['Date'])\n",
    "\n",
    "# Extract the weights with the highest total score\n",
    "best_weights_row = weights_data.loc[weights_data['Total Score'].idxmax()]\n",
    "weights_str = best_weights_row['Weights']\n",
    "\n",
    "# Extract individual weights from the weights string (assuming 'w1', 'w2', 'w3', 'w4' format)\n",
    "weights = {f\"w{i+1}\": float(val.split('=')[1]) for i, val in enumerate(weights_str.split(','))}\n",
    "\n",
    "# Calculate the 'F' column using the extracted weights\n",
    "data['F'] = round(\n",
    "        (1 / (1 + (weights['w1'] * data['PR_Scaled']))) *\n",
    "        (1 + (weights['w2'] * data['LAR_Scaled'])) * \n",
    "        (1 / (1 + (weights['w3'] * data['OP_Price_Scaled']))) *\n",
    "        (1 + (weights['w4'] * data['AVPI_Scaled'])), 6)\n",
    "\n",
    "# Calculate the 'Videal' column\n",
    "f_max = data['F'].max() \n",
    " \n",
    "beta = config['calculate_IVS']['parametres']['beta']\n",
    "alpha = config['calculate_IVS']['parametres']['alpha']\n",
    "\n",
    "F_min = data['F'].min()\n",
    "F_max = data['F'].max()\n",
    "\n",
    "data['IVS'] = round(data['Votable Supply'] * (beta + (np.exp(alpha * ((data['F'] - F_min) / (F_max - F_min))) - 1)), 2)\n",
    "\n",
    "data['IVS/VS'] = round(data['IVS'] / data['Votable Supply'], 2)\n",
    "\n",
    "print('w1 -', weights['w1'])\n",
    "print('w2 -', weights['w2'])\n",
    "print('w3 -', weights['w3'])\n",
    "print('w4 -', weights['w4'])\n",
    "\n",
    "IVS_data_path = config['calculate_final_IVS']['data']['calculated_daily_IVS_data_path']\n",
    "data.to_csv(IVS_data_path, index=False)\n"
   ]
  },
  {
   "cell_type": "code",
   "execution_count": null,
   "metadata": {},
   "outputs": [],
   "source": [
    "print(data['IVS/VS'].min())\n",
    "print(data['IVS/VS'].max())"
   ]
  },
  {
   "cell_type": "code",
   "execution_count": null,
   "metadata": {},
   "outputs": [],
   "source": [
    "data = pd.read_csv(IVS_data_path)"
   ]
  },
  {
   "cell_type": "code",
   "execution_count": null,
   "metadata": {},
   "outputs": [],
   "source": [
    "data['Date'] = pd.to_datetime(data['Date'])"
   ]
  },
  {
   "cell_type": "code",
   "execution_count": null,
   "metadata": {},
   "outputs": [],
   "source": [
    "f_min = data['F'].min()\n",
    "f_min"
   ]
  },
  {
   "cell_type": "code",
   "execution_count": null,
   "metadata": {},
   "outputs": [],
   "source": [
    "f_max = data['F'].max()\n",
    "f_max"
   ]
  },
  {
   "cell_type": "code",
   "execution_count": null,
   "metadata": {},
   "outputs": [],
   "source": [
    "# Resample by month and take the mean\n",
    "monthly_data = data.resample('M', on='Date')[['Votable Supply', 'F', 'IVS']].mean()\n",
    "\n",
    "monthly_data['IVS/VS'] = round(monthly_data['IVS'] / monthly_data['Votable Supply'], 2)\n",
    "\n",
    "# Save to CSV\n",
    "calculated_monthly_IVS_data_path = config['calculate_final_IVS']['data']['calculated_monthly_IVS_data_path']\n",
    "monthly_data.to_csv(calculated_monthly_IVS_data_path, index=True)\n"
   ]
  },
  {
   "cell_type": "code",
   "execution_count": null,
   "metadata": {},
   "outputs": [],
   "source": [
    "print(monthly_data['IVS/VS'].min())\n",
    "print(monthly_data['IVS/VS'].max())"
   ]
  },
  {
   "cell_type": "code",
   "execution_count": null,
   "metadata": {},
   "outputs": [],
   "source": [
    "monthly_data"
   ]
  },
  {
   "cell_type": "code",
   "execution_count": null,
   "metadata": {},
   "outputs": [],
   "source": [
    "# Create the figure and axis\n",
    "fig, ax = plt.subplots(figsize=(10, 5))\n",
    "\n",
    "# Plot the data\n",
    "ax.plot(monthly_data.index, monthly_data[\"Votable Supply\"], marker='o', color='blue', label=\"Votable Supply\")\n",
    "ax.plot(monthly_data.index, monthly_data[\"IVS\"], marker='o', color='red', label=\"Ideal Votable Supply\")\n",
    "\n",
    "# Format y-axis in Millions\n",
    "ax.yaxis.set_major_formatter(ticker.FuncFormatter(lambda x, pos: f'{x / 1e6:.1f}M'))\n",
    "\n",
    "# Labels and title\n",
    "ax.set_xlabel(\"Date\")\n",
    "ax.set_ylabel(\"VS and IVS (in Millions)\")\n",
    "ax.set_title(\"VS and IVS Over Time\")\n",
    "ax.legend()\n",
    "\n",
    "# Rotate x-axis labels for better readability\n",
    "plt.xticks(rotation=45)\n",
    "\n",
    "# Show the plot\n",
    "plt.show()\n"
   ]
  },
  {
   "cell_type": "code",
   "execution_count": null,
   "metadata": {},
   "outputs": [],
   "source": [
    "# Create the figure and axis\n",
    "fig, ax = plt.subplots(figsize=(10, 5))\n",
    "\n",
    "# Plot the data\n",
    "ax.plot(data['Date'], data[\"Votable Supply\"], color='blue', label=\"Votable Supply\")\n",
    "ax.plot(data['Date'], data[\"IVS\"], color='red', label=\"Ideal Votable Supply\")\n",
    "\n",
    "# Format y-axis in Millions\n",
    "ax.yaxis.set_major_formatter(ticker.FuncFormatter(lambda x, pos: f'{x / 1e6:.1f}M'))\n",
    "\n",
    "# Labels and title\n",
    "ax.set_xlabel(\"Date\")\n",
    "ax.set_ylabel(\"VS and IVS (in Millions)\")\n",
    "ax.set_title(\"VS and IVS Over Time\")\n",
    "ax.legend()\n",
    "\n",
    "# Rotate x-axis labels for better readability\n",
    "plt.xticks(rotation=45)\n",
    "\n",
    "# Show the plot\n",
    "plt.show()\n"
   ]
  }
 ],
 "metadata": {
  "kernelspec": {
   "display_name": "votable_supply",
   "language": "python",
   "name": "python3"
  },
  "language_info": {
   "codemirror_mode": {
    "name": "ipython",
    "version": 3
   },
   "file_extension": ".py",
   "mimetype": "text/x-python",
   "name": "python",
   "nbconvert_exporter": "python",
   "pygments_lexer": "ipython3",
   "version": "3.12.3"
  }
 },
 "nbformat": 4,
 "nbformat_minor": 2
}
