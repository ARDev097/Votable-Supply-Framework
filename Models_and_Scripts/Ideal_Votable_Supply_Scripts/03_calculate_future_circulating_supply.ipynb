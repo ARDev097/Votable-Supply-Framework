{
 "cells": [
  {
   "cell_type": "code",
   "execution_count": null,
   "metadata": {},
   "outputs": [],
   "source": [
    "import pandas as pd\n",
    "import numpy as np\n",
    "import matplotlib.pyplot as plt"
   ]
  },
  {
   "cell_type": "code",
   "execution_count": null,
   "metadata": {},
   "outputs": [],
   "source": [
    "data = pd.read_csv(\"../../Dataset/Historical_Data/Circulating_Supply/CS_Historical_Data.csv\")"
   ]
  },
  {
   "cell_type": "code",
   "execution_count": null,
   "metadata": {},
   "outputs": [],
   "source": [
    "data['Date'] = pd.to_datetime(data['Date'], dayfirst=True)\n",
    "\n",
    "# Step 1: Get the circulating supply as of 30th November 2024\n",
    "current_data = data[data[\"Date\"] == \"2024-11-30\"]\n",
    "current_circulating_supply = current_data[\"Circulating Supply\"].iloc[0] \n",
    "\n",
    "# Step 2: Calculate the remaining circulating supply for Dec 2024 - Apr 2025\n",
    "forecasted_circulating_supply_2024_2025 = 1_695_895_615\n",
    "remaining_circulating_supply_2024_2025 = forecasted_circulating_supply_2024_2025 - current_circulating_supply\n",
    "\n",
    "# Distribute the remaining supply across Dec 2024 - Apr 2025\n",
    "months_2024_2025 = pd.date_range(start=\"2024-12-01\", end=\"2025-04-30\", freq=\"MS\")\n",
    "monthly_increment_2024_2025 = remaining_circulating_supply_2024_2025 / len(months_2024_2025)\n",
    "\n",
    "# Create daily data for Dec 2024 - Apr 2025\n",
    "future_data_2024_2025 = []\n",
    "monthly_supply = current_circulating_supply\n",
    "\n",
    "for month_start in months_2024_2025:\n",
    "    monthly_supply += monthly_increment_2024_2025\n",
    "    daily_dates = pd.date_range(start=month_start, end=month_start + pd.offsets.MonthEnd(0), freq=\"D\")\n",
    "    for day in daily_dates:\n",
    "        future_data_2024_2025.append({\n",
    "            \"Date\": day,\n",
    "            \"Circulating Supply\": monthly_supply\n",
    "        })\n",
    "\n",
    "future_data_2024_2025 = pd.DataFrame(future_data_2024_2025)\n"
   ]
  },
  {
   "cell_type": "code",
   "execution_count": null,
   "metadata": {},
   "outputs": [],
   "source": [
    "# Step 1: Get the circulating supply as of 30th April 2025\n",
    "april_2025_data = future_data_2024_2025[future_data_2024_2025[\"Date\"] == \"2025-04-30\"]\n",
    "circulating_supply_april_2025 = april_2025_data[\"Circulating Supply\"].iloc[0]\n",
    "\n",
    "# Step 2: Forecasted CS for May 2025 - April 2026\n",
    "forecasted_circulating_supply_2025_2026 = 2_458_161_470 \n",
    "remaining_circulating_supply_2025_2026 = (\n",
    "    forecasted_circulating_supply_2025_2026 - circulating_supply_april_2025\n",
    ")\n",
    "\n",
    "# Distribute the remaining supply across 12 months (May 2025 - April 2026)\n",
    "months_2025_2026 = pd.date_range(start=\"2025-05-01\", end=\"2026-04-30\", freq=\"MS\")\n",
    "monthly_increment_2025_2026 = remaining_circulating_supply_2025_2026 / len(months_2025_2026)\n",
    "\n",
    "# Create daily data for May 2025 - April 2026\n",
    "future_data_2025_2026 = []\n",
    "monthly_supply = circulating_supply_april_2025\n",
    "\n",
    "for month_start in months_2025_2026[:12]:  # May 2025 - April 2026\n",
    "    monthly_supply += monthly_increment_2025_2026\n",
    "    daily_dates = pd.date_range(start=month_start, end=month_start + pd.offsets.MonthEnd(0), freq=\"D\")\n",
    "    for day in daily_dates:\n",
    "        future_data_2025_2026.append({\n",
    "            \"Date\": day,\n",
    "            \"Circulating Supply\": monthly_supply\n",
    "        })\n",
    "\n",
    "# Step 3: Combine with previous data\n",
    "future_data_2025_2026 = pd.DataFrame(future_data_2025_2026)\n"
   ]
  },
  {
   "cell_type": "code",
   "execution_count": null,
   "metadata": {},
   "outputs": [],
   "source": [
    "# Step 1: Get the circulating supply as of 30th April 2026\n",
    "april_2026_data = future_data_2025_2026[future_data_2025_2026[\"Date\"] == \"2026-04-30\"]\n",
    "circulating_supply_april_2026 = april_2026_data[\"Circulating Supply\"].iloc[0]\n",
    "\n",
    "# Step 2: Forecasted CS for May 2026 - April 2027\n",
    "forecasted_circulating_supply_2026_2027 = 2_827_999_809\n",
    "remaining_circulating_supply_2026_2027 = (\n",
    "    forecasted_circulating_supply_2026_2027 - circulating_supply_april_2026\n",
    ")\n",
    "\n",
    "# Distribute the remaining supply across 12 months (May 2026 - April 2027)\n",
    "months_2026_2027 = pd.date_range(start=\"2026-05-01\", end=\"2027-04-30\", freq=\"MS\")\n",
    "monthly_increment_2026_2027 = remaining_circulating_supply_2026_2027 / len(months_2026_2027)\n",
    "\n",
    "# Create daily data for May 2026 - April 2027\n",
    "future_data_2026_2027 = []\n",
    "monthly_supply = circulating_supply_april_2026\n",
    "\n",
    "for month_start in months_2026_2027:\n",
    "    monthly_supply += monthly_increment_2026_2027\n",
    "    daily_dates = pd.date_range(start=month_start, end=month_start + pd.offsets.MonthEnd(0), freq=\"D\")\n",
    "    for day in daily_dates:\n",
    "        future_data_2026_2027.append({\n",
    "            \"Date\": day,\n",
    "            \"Circulating Supply\": monthly_supply\n",
    "        })\n",
    "\n",
    "# Convert to DataFrame\n",
    "future_data_2026_2027 = pd.DataFrame(future_data_2026_2027)\n"
   ]
  },
  {
   "cell_type": "code",
   "execution_count": null,
   "metadata": {},
   "outputs": [],
   "source": [
    "future_data = pd.concat([future_data_2024_2025, future_data_2025_2026, future_data_2026_2027], ignore_index=True)\n",
    "future_data.to_csv(\"../../Dataset/Future_Circulating_Supply/FCS_Daywise_Data.csv\", index=False)"
   ]
  },
  {
   "cell_type": "code",
   "execution_count": null,
   "metadata": {},
   "outputs": [],
   "source": [
    "# Combine with all previous data\n",
    "all_data = pd.concat([data, future_data_2024_2025, future_data_2025_2026, future_data_2026_2027], ignore_index=True)\n",
    "\n",
    "all_data = all_data.sort_values(by=\"Date\").reset_index(drop=True)\n",
    "\n",
    "# Plotting\n",
    "plt.figure(figsize=(14, 8))\n",
    "\n",
    "# Plot Circulating Supply\n",
    "plt.plot(all_data[\"Date\"], all_data[\"Circulating Supply\"], label=\"Circulating Supply\", color=\"blue\")\n",
    "\n",
    "# Adding titles and labels\n",
    "plt.title(\"Time Series of Circulating Supply and Votable Supply\", fontsize=16)\n",
    "plt.xlabel(\"Date\", fontsize=14)\n",
    "plt.ylabel(\"Supply\", fontsize=14)\n",
    "plt.legend(fontsize=12)\n",
    "plt.grid(True)\n",
    "\n",
    "# Show plot\n",
    "plt.tight_layout()\n",
    "plt.show()\n"
   ]
  }
 ],
 "metadata": {
  "kernelspec": {
   "display_name": "votable_supply",
   "language": "python",
   "name": "python3"
  },
  "language_info": {
   "codemirror_mode": {
    "name": "ipython",
    "version": 3
   },
   "file_extension": ".py",
   "mimetype": "text/x-python",
   "name": "python",
   "nbconvert_exporter": "python",
   "pygments_lexer": "ipython3",
   "version": "3.12.3"
  }
 },
 "nbformat": 4,
 "nbformat_minor": 2
}
